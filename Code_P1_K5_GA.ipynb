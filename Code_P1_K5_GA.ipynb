{
  "nbformat": 4,
  "nbformat_minor": 0,
  "metadata": {
    "colab": {
      "provenance": [],
      "include_colab_link": true
    },
    "kernelspec": {
      "display_name": "Python 3",
      "name": "python3"
    },
    "language_info": {
      "name": "python"
    }
  },
  "cells": [
    {
      "cell_type": "markdown",
      "metadata": {
        "id": "view-in-github",
        "colab_type": "text"
      },
      "source": [
        "<a href=\"https://colab.research.google.com/github/zahraafirdausi/Optimization-of-job-shop-scheduling-problem-using-GA./blob/main/Code_P1_K5_GA.ipynb\" target=\"_parent\"><img src=\"https://colab.research.google.com/assets/colab-badge.svg\" alt=\"Open In Colab\"/></a>"
      ]
    },
    {
      "cell_type": "markdown",
      "metadata": {
        "id": "acZ76eyTGjNf"
      },
      "source": [
        "#OPTIMASI PERMASALAHAN JOB SHOP SCHEDULING MENGGUNAKAN GENETIC ALGORITHM DAN CONSTRAINT SATISFACTION PROBLEM#\n",
        "\n",
        "Disusun oleh Kelompok 5 Kelas P1:\n",
        "\n",
        "- Zahra Aulia Firdausi\t    \t(G64180030)\n",
        "- Putri Melanita Londong Bua\t(G64180053)\n",
        "- Syukriyatul Hanifa\t\t    \t(G64180062)\n",
        "- Annisa Faradila\t\t         \t(G64180074)\n",
        "- Hendrika Anggriawan\t\t      (G64180088)\n",
        "\n",
        "Untuk pengalaman terbaik dalam memakai kode ini, gunakan Google Collab. Cukup sesuaikan nama path directory saja. Pastikan di dalam directory tersebut telah terdapat file dataset yang dibutuhkan."
      ]
    },
    {
      "cell_type": "code",
      "metadata": {
        "colab": {
          "base_uri": "https://localhost:8080/"
        },
        "id": "ESsqHI79eld8",
        "outputId": "29d24514-1f05-4027-842f-b114d6853d28"
      },
      "source": [
        "from google.colab import drive\n",
        "drive.mount('/content/drive')"
      ],
      "execution_count": null,
      "outputs": [
        {
          "output_type": "stream",
          "text": [
            "Drive already mounted at /content/drive; to attempt to forcibly remount, call drive.mount(\"/content/drive\", force_remount=True).\n"
          ],
          "name": "stdout"
        }
      ]
    },
    {
      "cell_type": "code",
      "metadata": {
        "colab": {
          "base_uri": "https://localhost:8080/",
          "height": 35
        },
        "id": "yvG6vKZMbhIB",
        "outputId": "1e45e8fe-81a0-4560-e446-5a109f33732e"
      },
      "source": [
        "# set working directory\n",
        "import os\n",
        "\n",
        "# Atur path directory Anda di bawah ini\n",
        "contoh: path = \"/content/drive/MyDrive/Kuliah/Smt 6/Sisdas/PROJEK SISDAS\"\n",
        "# path = \"\"\n",
        "\n",
        "os.chdir(path)\n",
        "os.getcwd()"
      ],
      "execution_count": null,
      "outputs": [
        {
          "output_type": "execute_result",
          "data": {
            "application/vnd.google.colaboratory.intrinsic+json": {
              "type": "string"
            },
            "text/plain": [
              "'/content/drive/.shortcut-targets-by-id/1kuxb5WYuknav9kth1zIr9yWNSrvvTIwx/Sisdas/PROJEK SISDAS'"
            ]
          },
          "metadata": {
            "tags": []
          },
          "execution_count": 23
        }
      ]
    },
    {
      "cell_type": "code",
      "metadata": {
        "id": "wpNBaaDXbi1i"
      },
      "source": [
        "\"\"\" Defined function for static initial data for Production Planning \"\"\"\n",
        "\n",
        "#importing libraries\n",
        "import pandas as pd\n",
        "import openpyxl as xl\n",
        "import json\n",
        "\n",
        "def data_excel_json(excel_sheet):\n",
        "    \"\"\" convert excel into json \"\"\"\n",
        "    data_excel = xl.load_workbook(excel_sheet)\n",
        "    data = {}\n",
        "    sheet_name = data_excel.sheetnames\n",
        "    for sheet in sheet_name:\n",
        "        wb_sheet = data_excel[sheet]\n",
        "        cell_values = wb_sheet.values\n",
        "        df =  pd.DataFrame(cell_values, columns=next(cell_values))\n",
        "        df.iloc[:, 0] = df.iloc[:, 0].apply(lambda x : x.strip())\n",
        "        df.index = df.iloc[:, 0]\n",
        "        df.drop(columns = df.columns[0], inplace=True)\n",
        "        data[sheet] = df.T.to_dict()\n",
        "    return data\n"
      ],
      "execution_count": null,
      "outputs": []
    },
    {
      "cell_type": "code",
      "metadata": {
        "colab": {
          "base_uri": "https://localhost:8080/"
        },
        "id": "v1eHUCVLdd_h",
        "outputId": "fd039665-dc25-4460-b79c-96f289a0371a"
      },
      "source": [
        "!pip install chart_studio"
      ],
      "execution_count": null,
      "outputs": [
        {
          "output_type": "stream",
          "text": [
            "Requirement already satisfied: chart_studio in /usr/local/lib/python3.7/dist-packages (1.1.0)\n",
            "Requirement already satisfied: requests in /usr/local/lib/python3.7/dist-packages (from chart_studio) (2.23.0)\n",
            "Requirement already satisfied: six in /usr/local/lib/python3.7/dist-packages (from chart_studio) (1.15.0)\n",
            "Requirement already satisfied: retrying>=1.3.3 in /usr/local/lib/python3.7/dist-packages (from chart_studio) (1.3.3)\n",
            "Requirement already satisfied: plotly in /usr/local/lib/python3.7/dist-packages (from chart_studio) (4.4.1)\n",
            "Requirement already satisfied: certifi>=2017.4.17 in /usr/local/lib/python3.7/dist-packages (from requests->chart_studio) (2021.5.30)\n",
            "Requirement already satisfied: idna<3,>=2.5 in /usr/local/lib/python3.7/dist-packages (from requests->chart_studio) (2.10)\n",
            "Requirement already satisfied: chardet<4,>=3.0.2 in /usr/local/lib/python3.7/dist-packages (from requests->chart_studio) (3.0.4)\n",
            "Requirement already satisfied: urllib3!=1.25.0,!=1.25.1,<1.26,>=1.21.1 in /usr/local/lib/python3.7/dist-packages (from requests->chart_studio) (1.24.3)\n"
          ],
          "name": "stdout"
        }
      ]
    },
    {
      "cell_type": "code",
      "metadata": {
        "id": "bmjj6aS4blrb"
      },
      "source": [
        "import chart_studio.plotly as py"
      ],
      "execution_count": null,
      "outputs": []
    },
    {
      "cell_type": "code",
      "metadata": {
        "id": "zqB050V0bnzU"
      },
      "source": [
        "''' Solving job shop scheduling problem by gentic algorithm '''\n",
        "\n",
        "# importing required modules\n",
        "import pandas as pd\n",
        "import numpy as np\n",
        "import matplotlib.pyplot as plt\n",
        "import pandas as pd\n",
        "import chart_studio.plotly as py\n",
        "import plotly.figure_factory as ff\n",
        "import datetime\n",
        "import time\n",
        "import copy\n",
        "import openpyxl as xl\n",
        "import json\n",
        "\n",
        "\n",
        "def json_to_df(json_data):\n",
        "    \"\"\" convert json into excel \"\"\"\n",
        "    dict_data = {}\n",
        "    for key in json_data.keys():\n",
        "        dict_data[key] = pd.DataFrame(json_data.get(key)).T\n",
        "\n",
        "    return dict_data\n",
        "\n",
        "\n",
        "def generate_initial_population(population_size, num_gene):\n",
        "\n",
        "    \"\"\" generate initial population for Genetic Algorithm \"\"\"\n",
        "\n",
        "    best_list, best_obj = [], []\n",
        "    population_list = []\n",
        "    makespan_record = []\n",
        "\n",
        "    for i in range(population_size):\n",
        "        nxm_random_num = list(np.random.permutation(num_gene))\n",
        "        population_list.append(nxm_random_num)\n",
        "        for j in range(num_gene):\n",
        "            population_list[i][j] = population_list[i][j] % num_job\n",
        "\n",
        "    return population_list\n",
        "\n",
        "\n",
        "\n",
        "def job_schedule(data_dict, population_size = 100, crossover_rate = 0.8, mutation_rate = 0.02, mutation_selection_rate = 0.1, num_iteration = 1000):\n",
        "\n",
        "    \"\"\" initialize genetic algorithm parameters and read data \"\"\"\n",
        "    data_json  = json_to_df(data_dict)\n",
        "    machine_sequence_tmp = data_json['Machines Sequence']\n",
        "    process_time_tmp = data_json['Processing Time']\n",
        "\n",
        "    df_shape = process_time_tmp.shape\n",
        "    num_machines = df_shape[1] # Banyaknya mesin\n",
        "    num_job = df_shape[0] # Banyaknya pekerja\n",
        "    num_gene = num_machines * num_job # Banyaknya gen dalam satu kromosom\n",
        "    num_mutation_jobs = round(num_gene * mutation_selection_rate)\n",
        "\n",
        "    process_time = [list(map(int, process_time_tmp.iloc[i])) for i in range(num_job)]\n",
        "    machine_sequence = [list(map(int, machine_sequence_tmp.iloc[i])) for i in range(num_job)]\n",
        "\n",
        "    Tbest = 999999999999999\n",
        "\n",
        "    best_list, best_obj = [], []\n",
        "    population_list = []\n",
        "    makespan_record = []\n",
        "\n",
        "    for i in range(population_size):\n",
        "        nxm_random_num = list(np.random.permutation(num_gene))\n",
        "        population_list.append(nxm_random_num)\n",
        "        for j in range(num_gene):\n",
        "            population_list[i][j] = population_list[i][j] % num_job \n",
        "\n",
        "    for iteration in range(num_iteration):\n",
        "        Tbest_now = 99999999999\n",
        "\n",
        "        \"\"\" Two Point Cross-Over \"\"\"\n",
        "        parent_list = copy.deepcopy(population_list)\n",
        "        offspring_list = copy.deepcopy(population_list) # Memilih random kromosom parent yang akan disilangkan\n",
        "        pop_random_size = list(np.random.permutation(population_size))\n",
        "\n",
        "        for size in range(int(population_size/2)):\n",
        "            crossover_prob = np.random.rand()\n",
        "            if crossover_rate >= crossover_prob:\n",
        "                parent_1 = population_list[pop_random_size[2*size]][:]\n",
        "                parent_2 = population_list[pop_random_size[2*size+1]][:]\n",
        "\n",
        "                child_1 = parent_1[:]\n",
        "                child_2 = parent_2[:]\n",
        "                cutpoint = list(np.random.choice(num_gene, 2, replace=False)) # Memilih 2 titik crossover\n",
        "                cutpoint.sort()\n",
        "\n",
        "                child_1[cutpoint[0]:cutpoint[1]] = parent_2[cutpoint[0]:cutpoint[1]]\n",
        "                child_2[cutpoint[0]:cutpoint[1]] = parent_1[cutpoint[0]:cutpoint[1]]\n",
        "                offspring_list[pop_random_size[2*size]] = child_1[:]\n",
        "                offspring_list[pop_random_size[2*size+1]] = child_2[:]\n",
        "\n",
        "\n",
        "        for pop in range(population_size):\n",
        "\n",
        "            \"\"\" Repairment \"\"\"\n",
        "            job_count = {}\n",
        "            larger, less = [], [] # Menyimpan informasi gen yang jumlahnya tidak memenuhi syarat\n",
        "            for job in range(num_job):\n",
        "                if job in offspring_list[pop]:\n",
        "                    count = offspring_list[pop].count(job)\n",
        "                    pos = offspring_list[pop].index(job)\n",
        "                    job_count[job] = [count, pos]\n",
        "                else:\n",
        "                    count = 0\n",
        "                    job_count[job] = [count, 0]\n",
        "\n",
        "                if count > num_machines:\n",
        "                    larger.append(job)\n",
        "                elif count < num_machines:\n",
        "                    less.append(job)\n",
        "                    \n",
        "            for large in range(len(larger)):\n",
        "                change_job = larger[large]\n",
        "                while job_count[change_job][0] > num_machines:\n",
        "                    for les in range(len(less)):\n",
        "                        if job_count[less[les]][0] < num_machines:                    \n",
        "                            offspring_list[pop][job_count[change_job][1]] = less[les]\n",
        "                            job_count[change_job][1] = offspring_list[pop].index(change_job)\n",
        "                            job_count[change_job][0] = job_count[change_job][0]-1\n",
        "                            job_count[less[les]][0] = job_count[less[les]][0]+1                    \n",
        "                        if job_count[change_job][0] == num_machines:\n",
        "                            break     \n",
        "    \n",
        "\n",
        "        \n",
        "        for off_spring in range(len(offspring_list)):\n",
        "\n",
        "            \"\"\" Mutations \"\"\"\n",
        "            mutation_prob = np.random.rand()\n",
        "            if mutation_rate >= mutation_prob:\n",
        "                m_change = list(np.random.choice(num_gene, num_mutation_jobs, replace=False)) \n",
        "                t_value_last = offspring_list[off_spring][m_change[0]] \n",
        "                for i in range(num_mutation_jobs-1):\n",
        "                    offspring_list[off_spring][m_change[i]] = offspring_list[off_spring][m_change[i+1]] \n",
        "                offspring_list[off_spring][m_change[num_mutation_jobs-1]] = t_value_last \n",
        "\n",
        "\n",
        "\n",
        "        \"\"\" fitness value (calculate makespan) \"\"\"\n",
        "        total_chromosome = copy.deepcopy(parent_list) + copy.deepcopy(offspring_list) \n",
        "        chrom_fitness, chrom_fit = [], []\n",
        "        total_fitness = 0\n",
        "        for pop_size in range(population_size*2):\n",
        "            j_keys = [j for j in range(num_job)]\n",
        "            key_count = {key:0 for key in j_keys}\n",
        "            j_count = {key:0 for key in j_keys}\n",
        "            m_keys = [j+1 for j in range(num_machines)]\n",
        "            m_count = {key:0 for key in m_keys}\n",
        "            \n",
        "            for i in total_chromosome[pop_size]:\n",
        "                gen_t = int(process_time[i][key_count[i]])\n",
        "                gen_m = int(machine_sequence[i][key_count[i]])\n",
        "                j_count[i] = j_count[i] + gen_t\n",
        "                m_count[gen_m] = m_count[gen_m] + gen_t\n",
        "                \n",
        "                if m_count[gen_m] < j_count[i]:\n",
        "                    m_count[gen_m] = j_count[i]\n",
        "                elif m_count[gen_m] > j_count[i]:\n",
        "                    j_count[i] = m_count[gen_m]\n",
        "                \n",
        "                key_count[i] = key_count[i] + 1\n",
        "        \n",
        "            makespan = max(j_count.values())\n",
        "            chrom_fitness.append(1/makespan)\n",
        "            chrom_fit.append(makespan)\n",
        "            total_fitness = total_fitness + chrom_fitness[pop_size]\n",
        "        \n",
        "\n",
        "        \"\"\" Selection (roulette wheel approach) \"\"\"\n",
        "        pk, qk = [], []\n",
        "        \n",
        "        for size in range(population_size * 2):\n",
        "            pk.append(chrom_fitness[size] / total_fitness)\n",
        "        for size in range(population_size * 2):\n",
        "            cumulative = 0\n",
        "\n",
        "            for j in range(0, size+1):\n",
        "                cumulative = cumulative + pk[j]\n",
        "            qk.append(cumulative)\n",
        "        \n",
        "        selection_rand = [np.random.rand() for i in range(population_size)]\n",
        "        \n",
        "        for pop_size in range(population_size):\n",
        "            if selection_rand[pop_size] <= qk[0]:\n",
        "                population_list[pop_size] = copy.deepcopy(total_chromosome[0])\n",
        "            else:\n",
        "                for j in range(0, population_size * 2-1):\n",
        "                    if selection_rand[pop_size] > qk[j] and selection_rand[pop_size] <= qk[j+1]:\n",
        "                        population_list[pop_size] = copy.deepcopy(total_chromosome[j+1])\n",
        "                        break\n",
        "\n",
        "\n",
        "        \"\"\" comparison \"\"\"\n",
        "        for pop_size in range(population_size * 2):\n",
        "            if chrom_fit[pop_size] < Tbest_now:\n",
        "                Tbest_now = chrom_fit[pop_size]\n",
        "                sequence_now = copy.deepcopy(total_chromosome[pop_size])\n",
        "        if Tbest_now <= Tbest:\n",
        "            Tbest = Tbest_now\n",
        "            sequence_best = copy.deepcopy(sequence_now)\n",
        "            \n",
        "        makespan_record.append(Tbest)\n",
        "\n",
        "    \"\"\" Results - Makespan \"\"\"\n",
        "\n",
        "    print(\"optimal sequence\", sequence_best)\n",
        "    print(\"optimal value:%f\"%Tbest)\n",
        "    print(\"\\n\")\n",
        "\n",
        "    plt.plot([i for i in range(len(makespan_record))],makespan_record,'b')\n",
        "    plt.ylabel('makespan', fontsize=15)\n",
        "    plt.xlabel('generation', fontsize=15)\n",
        "    plt.show()\n",
        "\n",
        "\n",
        "    \"\"\" plot gantt chart \"\"\"\n",
        "\n",
        "    m_keys = [j+1 for j in range(num_machines)]\n",
        "    j_keys = [j for j in range(num_job)]\n",
        "    key_count = {key:0 for key in j_keys}\n",
        "    j_count = {key:0 for key in j_keys}\n",
        "    m_count = {key:0 for key in m_keys}\n",
        "    j_record = {}\n",
        "    for i in sequence_best:\n",
        "        gen_t = int(process_time[i][key_count[i]])\n",
        "        gen_m = int(machine_sequence[i][key_count[i]])\n",
        "        j_count[i] = j_count[i] + gen_t\n",
        "        m_count[gen_m] = m_count[gen_m] + gen_t\n",
        "\n",
        "        if m_count[gen_m] < j_count[i]:\n",
        "            m_count[gen_m] = j_count[i]\n",
        "        elif m_count[gen_m] > j_count[i]:\n",
        "            j_count[i] = m_count[gen_m]\n",
        "\n",
        "        start_time = str(datetime.timedelta(seconds = j_count[i] - process_time[i][key_count[i]]))\n",
        "        end_time = str(datetime.timedelta(seconds = j_count[i]))\n",
        "\n",
        "        j_record[(i, gen_m)] = [start_time, end_time]\n",
        "\n",
        "        key_count[i] = key_count[i] + 1\n",
        "\n",
        "\n",
        "    df = []\n",
        "    for m in m_keys:\n",
        "        for j in j_keys:\n",
        "            df.append(dict(Task='Mesin %s'%(m), Start='2021-06-22 %s'%(str(j_record[(j,m)][0])), \\\n",
        "                            Finish='2021-06-22 %s'%(str(j_record[(j,m)][1])),Resource='Pekerja %s'%(j+1)))\n",
        "    \n",
        "    df_ = pd.DataFrame(df)\n",
        "    df_.Start = pd.to_datetime(df_['Start'])\n",
        "    df_.Finish = pd.to_datetime(df_['Finish'])\n",
        "    start = df_.Start.min()\n",
        "    end = df_.Finish.max()\n",
        "\n",
        "    df_.Start = df_.Start.apply(lambda x: x.strftime('%Y-%m-%dT%H:%M:%S'))\n",
        "    df_.Finish = df_.Finish.apply(lambda x: x.strftime('%Y-%m-%dT%H:%M:%S'))\n",
        "    data = df_.to_dict('record')\n",
        "\n",
        "    final_data ={\n",
        "        'start':start.strftime('%Y-%m-%dT%H:%M:%S'),\n",
        "        'end':end.strftime('%Y-%m-%dT%H:%M:%S'),\n",
        "        'data':data}\n",
        "    \n",
        "    color = ['#7c3933', '#a1fcba', '#5226f5', '#b49dda', '#df1769',\n",
        "             '#873dd2', '#cd02f6', '#d837ab', '#00867f', '#4c58e4',\n",
        "             '#6e69c1', '#fe7a69', '#9c4688', '#1f5bb3', '#60c9d0', \n",
        "             '#35c9c1', '#b35985', '#a1fcbf', '#cbc086', '#03389f', \n",
        "             '#9edeab', '#d99458', '#9ebe2a', '#74950b', '#b3b1c0',\n",
        "             '#f54b5d', '#afc8c3', '#a2f770', '#9a0dff', '#e2c947']\n",
        "    fig = ff.create_gantt(df, colors = color ,index_col='Resource', show_colorbar=True, group_tasks=True, showgrid_x=True, title='Job shop Schedule')\n",
        "    fig.show()\n",
        "    return final_data, df"
      ],
      "execution_count": null,
      "outputs": []
    },
    {
      "cell_type": "code",
      "metadata": {
        "id": "2mlGUAPXbsmc",
        "colab": {
          "base_uri": "https://localhost:8080/",
          "height": 1000
        },
        "outputId": "8ecf46f0-8190-4a36-8f2c-455c8647f314"
      },
      "source": [
        "\"\"\" Job_Shop_Schedule \"\"\"\n",
        "np.random.seed(123)\n",
        "data = data_excel_json('dataset.xlsx')\n",
        "schedule = job_schedule(data_dict=data)"
      ],
      "execution_count": null,
      "outputs": [
        {
          "output_type": "stream",
          "text": [
            "optimal sequence [6, 7, 11, 10, 14, 8, 6, 12, 0, 0, 4, 5, 13, 6, 1, 5, 3, 4, 9, 2, 5, 6, 8, 4, 11, 5, 3, 2, 14, 13, 9, 4, 0, 10, 3, 10, 0, 4, 4, 6, 13, 7, 14, 11, 0, 4, 2, 7, 8, 3, 1, 6, 0, 9, 8, 5, 7, 5, 5, 11, 3, 10, 9, 10, 3, 8, 7, 9, 14, 7, 13, 1, 10, 12, 11, 9, 11, 6, 12, 11, 6, 7, 4, 9, 10, 3, 5, 10, 6, 3, 12, 11, 11, 11, 2, 1, 2, 5, 12, 12, 0, 4, 7, 10, 8, 7, 9, 7, 1, 5, 14, 14, 12, 8, 3, 2, 10, 13, 3, 12, 1, 5, 2, 11, 7, 6, 9, 3, 13, 11, 2, 14, 0, 1, 13, 1, 2, 9, 14, 6, 13, 4, 8, 8, 7, 5, 14, 4, 5, 6, 11, 8, 0, 10, 9, 13, 13, 8, 12, 1, 9, 11, 3, 10, 0, 12, 1, 3, 13, 2, 2, 13, 4, 14, 5, 1, 11, 12, 4, 1, 7, 10, 12, 14, 9, 4, 14, 13, 14, 6, 0, 3, 0, 0, 1, 12, 2, 1, 8, 8, 10, 9, 8, 2, 1, 6, 13, 0, 7, 2, 5, 13, 12, 8, 0, 2, 10, 14, 9, 14, 12, 3, 7, 6, 4]\n",
            "optimal value:1535.000000\n",
            "\n",
            "\n"
          ],
          "name": "stdout"
        },
        {
          "output_type": "display_data",
          "data": {
            "image/png": "[encoded data removed]",
            "text/plain": [
              "<Figure size 432x288 with 1 Axes>"
            ]
          },
          "metadata": {
            "tags": [],
            "needs_background": "light"
          }
        },
        {
          "output_type": "stream",
          "text": [
            "/usr/local/lib/python3.7/dist-packages/pandas/core/frame.py:1490: FutureWarning:\n",
            "\n",
            "Using short name for 'orient' is deprecated. Only the options: ('dict', list, 'series', 'split', 'records', 'index') will be used in a future version. Use one of the above to silence this warning.\n",
            "\n"
          ],
          "name": "stderr"
        },
        {
          "output_type": "display_data",
          "data": {
            "text/html": [
              "<html>\n",
              "<head><meta charset=\"utf-8\" /></head>\n",
              "<body>\n",
              "    <div>\n",
              "            <script src=\"https://cdnjs.cloudflare.com/ajax/libs/mathjax/2.7.5/MathJax.js?config=TeX-AMS-MML_SVG\"></script><script type=\"text/javascript\">if (window.MathJax) {MathJax.Hub.Config({SVG: {font: \"STIX-Web\"}});}</script>\n",
              "                <script type=\"text/javascript\">window.PlotlyConfig = {MathJaxConfig: 'local'};</script>\n",
              "        <script src=\"https://cdn.plot.ly/plotly-latest.min.js\"></script>    \n",
              "            <div id=\"bde67bc6-2862-48ff-a156-923dac26ccab\" class=\"plotly-graph-div\" style=\"height:600px; width:100%;\"></div>\n",
              "            <script type=\"text/javascript\">\n",
              "                \n",
              "                    window.PLOTLYENV=window.PLOTLYENV || {};\n",
              "                    \n",
              "                if (document.getElementById(\"bde67bc6-2862-48ff-a156-923dac26ccab\")) {\n",
              "                    Plotly.newPlot(\n",
              "                        'bde67bc6-2862-48ff-a156-923dac26ccab',\n",
              "                        [{\"fill\": \"toself\", \"fillcolor\": \"rgb(0, 134, 127)\", \"hoverinfo\": \"name\", \"legendgroup\": \"rgb(0, 134, 127)\", \"mode\": \"none\", \"name\": \"Pekerja 3\", \"showlegend\": true, \"type\": \"scatter\", \"x\": [\"2021-06-22 0:13:54\", \"2021-06-22 0:14:48\", \"2021-06-22 0:14:48\", \"2021-06-22 0:13:54\", \"2021-06-22 0:13:54\", \"2021-06-22 0:00:00\", \"2021-06-22 0:00:04\", \"2021-06-22 0:00:04\", \"2021-06-22 0:00:00\", \"2021-06-22 0:00:00\", \"2021-06-22 0:14:48\", \"2021-06-22 0:15:56\", \"2021-06-22 0:15:56\", \"2021-06-22 0:14:48\", \"2021-06-22 0:14:48\", \"2021-06-22 0:21:44\", \"2021-06-22 0:22:19\", \"2021-06-22 0:22:19\", \"2021-06-22 0:21:44\", \"2021-06-22 0:21:44\", \"2021-06-22 0:20:29\", \"2021-06-22 0:21:08\", \"2021-06-22 0:21:08\", \"2021-06-22 0:20:29\", \"2021-06-22 0:20:29\", \"2021-06-22 0:12:37\", \"2021-06-22 0:12:43\", \"2021-06-22 0:12:43\", \"2021-06-22 0:12:37\", \"2021-06-22 0:12:37\", \"2021-06-22 0:09:47\", \"2021-06-22 0:10:37\", \"2021-06-22 0:10:37\", \"2021-06-22 0:09:47\", \"2021-06-22 0:09:47\", \"2021-06-22 0:18:01\", \"2021-06-22 0:19:23\", \"2021-06-22 0:19:23\", \"2021-06-22 0:18:01\", \"2021-06-22 0:18:01\", \"2021-06-22 0:01:57\", \"2021-06-22 0:03:19\", \"2021-06-22 0:03:19\", \"2021-06-22 0:01:57\", \"2021-06-22 0:01:57\", \"2021-06-22 0:04:27\", \"2021-06-22 0:05:07\", \"2021-06-22 0:05:07\", \"2021-06-22 0:04:27\", \"2021-06-22 0:04:27\", \"2021-06-22 0:19:23\", \"2021-06-22 0:19:43\", \"2021-06-22 0:19:43\", \"2021-06-22 0:19:23\", \"2021-06-22 0:19:23\", \"2021-06-22 0:10:37\", \"2021-06-22 0:11:31\", \"2021-06-22 0:11:31\", \"2021-06-22 0:10:37\", \"2021-06-22 0:10:37\", \"2021-06-22 0:08:18\", \"2021-06-22 0:09:44\", \"2021-06-22 0:09:44\", \"2021-06-22 0:08:18\", \"2021-06-22 0:08:18\", \"2021-06-22 0:12:16\", \"2021-06-22 0:12:37\", \"2021-06-22 0:12:37\", \"2021-06-22 0:12:16\", \"2021-06-22 0:12:16\", \"2021-06-22 0:22:19\", \"2021-06-22 0:23:27\", \"2021-06-22 0:23:27\", \"2021-06-22 0:22:19\"], \"y\": [13.8, 13.8, 14.2, 14.2, null, 12.8, 12.8, 13.2, 13.2, null, 11.8, 11.8, 12.2, 12.2, null, 10.8, 10.8, 11.2, 11.2, null, 9.8, 9.8, 10.2, 10.2, null, 8.8, 8.8, 9.2, 9.2, null, 7.8, 7.8, 8.2, 8.2, null, 6.8, 6.8, 7.2, 7.2, null, 5.8, 5.8, 6.2, 6.2, null, 4.8, 4.8, 5.2, 5.2, null, 3.8, 3.8, 4.2, 4.2, null, 2.8, 2.8, 3.2, 3.2, null, 1.8, 1.8, 2.2, 2.2, null, 0.8, 0.8, 1.2, 1.2, null, -0.2, -0.2, 0.2, 0.2]}, {\"fill\": \"toself\", \"fillcolor\": \"rgb(110, 105, 193)\", \"hoverinfo\": \"name\", \"legendgroup\": \"rgb(110, 105, 193)\", \"mode\": \"none\", \"name\": \"Pekerja 5\", \"showlegend\": true, \"type\": \"scatter\", \"x\": [\"2021-06-22 0:19:10\", \"2021-06-22 0:19:52\", \"2021-06-22 0:19:52\", \"2021-06-22 0:19:10\", \"2021-06-22 0:19:10\", \"2021-06-22 0:15:27\", \"2021-06-22 0:17:00\", \"2021-06-22 0:17:00\", \"2021-06-22 0:15:27\", \"2021-06-22 0:15:27\", \"2021-06-22 0:04:27\", \"2021-06-22 0:06:02\", \"2021-06-22 0:06:02\", \"2021-06-22 0:04:27\", \"2021-06-22 0:04:27\", \"2021-06-22 0:22:43\", \"2021-06-22 0:24:19\", \"2021-06-22 0:24:19\", \"2021-06-22 0:22:43\", \"2021-06-22 0:22:43\", \"2021-06-22 0:03:22\", \"2021-06-22 0:03:58\", \"2021-06-22 0:03:58\", \"2021-06-22 0:03:22\", \"2021-06-22 0:03:22\", \"2021-06-22 0:12:43\", \"2021-06-22 0:13:59\", \"2021-06-22 0:13:59\", \"2021-06-22 0:12:43\", \"2021-06-22 0:12:43\", \"2021-06-22 0:01:41\", \"2021-06-22 0:02:02\", \"2021-06-22 0:02:02\", \"2021-06-22 0:01:41\", \"2021-06-22 0:01:41\", \"2021-06-22 0:00:00\", \"2021-06-22 0:01:18\", \"2021-06-22 0:01:18\", \"2021-06-22 0:00:00\", \"2021-06-22 0:00:00\", \"2021-06-22 0:01:18\", \"2021-06-22 0:01:41\", \"2021-06-22 0:01:41\", \"2021-06-22 0:01:18\", \"2021-06-22 0:01:18\", \"2021-06-22 0:03:58\", \"2021-06-22 0:04:27\", \"2021-06-22 0:04:27\", \"2021-06-22 0:03:58\", \"2021-06-22 0:03:58\", \"2021-06-22 0:02:22\", \"2021-06-22 0:03:22\", \"2021-06-22 0:03:22\", \"2021-06-22 0:02:22\", \"2021-06-22 0:02:22\", \"2021-06-22 0:18:18\", \"2021-06-22 0:19:10\", \"2021-06-22 0:19:10\", \"2021-06-22 0:18:18\", \"2021-06-22 0:18:18\", \"2021-06-22 0:10:28\", \"2021-06-22 0:11:47\", \"2021-06-22 0:11:47\", \"2021-06-22 0:10:28\", \"2021-06-22 0:10:28\", \"2021-06-22 0:17:00\", \"2021-06-22 0:17:42\", \"2021-06-22 0:17:42\", \"2021-06-22 0:17:00\", \"2021-06-22 0:17:00\", \"2021-06-22 0:08:49\", \"2021-06-22 0:10:28\", \"2021-06-22 0:10:28\", \"2021-06-22 0:08:49\"], \"y\": [13.8, 13.8, 14.2, 14.2, null, 12.8, 12.8, 13.2, 13.2, null, 11.8, 11.8, 12.2, 12.2, null, 10.8, 10.8, 11.2, 11.2, null, 9.8, 9.8, 10.2, 10.2, null, 8.8, 8.8, 9.2, 9.2, null, 7.8, 7.8, 8.2, 8.2, null, 6.8, 6.8, 7.2, 7.2, null, 5.8, 5.8, 6.2, 6.2, null, 4.8, 4.8, 5.2, 5.2, null, 3.8, 3.8, 4.2, 4.2, null, 2.8, 2.8, 3.2, 3.2, null, 1.8, 1.8, 2.2, 2.2, null, 0.8, 0.8, 1.2, 1.2, null, -0.2, -0.2, 0.2, 0.2]}, {\"fill\": \"toself\", \"fillcolor\": \"rgb(124, 57, 51)\", \"hoverinfo\": \"name\", \"legendgroup\": \"rgb(124, 57, 51)\", \"mode\": \"none\", \"name\": \"Pekerja 1\", \"showlegend\": true, \"type\": \"scatter\", \"x\": [\"2021-06-22 0:22:01\", \"2021-06-22 0:23:11\", \"2021-06-22 0:23:11\", \"2021-06-22 0:22:01\", \"2021-06-22 0:22:01\", \"2021-06-22 0:23:41\", \"2021-06-22 0:25:04\", \"2021-06-22 0:25:04\", \"2021-06-22 0:23:41\", \"2021-06-22 0:23:41\", \"2021-06-22 0:06:02\", \"2021-06-22 0:06:17\", \"2021-06-22 0:06:17\", \"2021-06-22 0:06:02\", \"2021-06-22 0:06:02\", \"2021-06-22 0:03:47\", \"2021-06-22 0:04:13\", \"2021-06-22 0:04:13\", \"2021-06-22 0:03:47\", \"2021-06-22 0:03:47\", \"2021-06-22 0:02:44\", \"2021-06-22 0:02:54\", \"2021-06-22 0:02:54\", \"2021-06-22 0:02:44\", \"2021-06-22 0:02:44\", \"2021-06-22 0:20:25\", \"2021-06-22 0:22:01\", \"2021-06-22 0:22:01\", \"2021-06-22 0:20:25\", \"2021-06-22 0:20:25\", \"2021-06-22 0:00:00\", \"2021-06-22 0:01:34\", \"2021-06-22 0:01:34\", \"2021-06-22 0:00:00\", \"2021-06-22 0:00:00\", \"2021-06-22 0:02:54\", \"2021-06-22 0:03:47\", \"2021-06-22 0:03:47\", \"2021-06-22 0:02:54\", \"2021-06-22 0:02:54\", \"2021-06-22 0:15:47\", \"2021-06-22 0:15:57\", \"2021-06-22 0:15:57\", \"2021-06-22 0:15:47\", \"2021-06-22 0:15:47\", \"2021-06-22 0:17:20\", \"2021-06-22 0:18:53\", \"2021-06-22 0:18:53\", \"2021-06-22 0:17:20\", \"2021-06-22 0:17:20\", \"2021-06-22 0:10:37\", \"2021-06-22 0:11:42\", \"2021-06-22 0:11:42\", \"2021-06-22 0:10:37\", \"2021-06-22 0:10:37\", \"2021-06-22 0:14:25\", \"2021-06-22 0:15:47\", \"2021-06-22 0:15:47\", \"2021-06-22 0:14:25\", \"2021-06-22 0:14:25\", \"2021-06-22 0:01:34\", \"2021-06-22 0:02:40\", \"2021-06-22 0:02:40\", \"2021-06-22 0:01:34\", \"2021-06-22 0:01:34\", \"2021-06-22 0:18:53\", \"2021-06-22 0:20:25\", \"2021-06-22 0:20:25\", \"2021-06-22 0:18:53\", \"2021-06-22 0:18:53\", \"2021-06-22 0:16:07\", \"2021-06-22 0:16:34\", \"2021-06-22 0:16:34\", \"2021-06-22 0:16:07\"], \"y\": [13.8, 13.8, 14.2, 14.2, null, 12.8, 12.8, 13.2, 13.2, null, 11.8, 11.8, 12.2, 12.2, null, 10.8, 10.8, 11.2, 11.2, null, 9.8, 9.8, 10.2, 10.2, null, 8.8, 8.8, 9.2, 9.2, null, 7.8, 7.8, 8.2, 8.2, null, 6.8, 6.8, 7.2, 7.2, null, 5.8, 5.8, 6.2, 6.2, null, 4.8, 4.8, 5.2, 5.2, null, 3.8, 3.8, 4.2, 4.2, null, 2.8, 2.8, 3.2, 3.2, null, 1.8, 1.8, 2.2, 2.2, null, 0.8, 0.8, 1.2, 1.2, null, -0.2, -0.2, 0.2, 0.2]}, {\"fill\": \"toself\", \"fillcolor\": \"rgb(135, 61, 210)\", \"hoverinfo\": \"name\", \"legendgroup\": \"rgb(135, 61, 210)\", \"mode\": \"none\", \"name\": \"Pekerja 14\", \"showlegend\": true, \"type\": \"scatter\", \"x\": [\"2021-06-22 0:24:21\", \"2021-06-22 0:24:56\", \"2021-06-22 0:24:56\", \"2021-06-22 0:24:21\", \"2021-06-22 0:24:21\", \"2021-06-22 0:14:31\", \"2021-06-22 0:15:27\", \"2021-06-22 0:15:27\", \"2021-06-22 0:14:31\", \"2021-06-22 0:14:31\", \"2021-06-22 0:24:14\", \"2021-06-22 0:24:21\", \"2021-06-22 0:24:21\", \"2021-06-22 0:24:14\", \"2021-06-22 0:24:14\", \"2021-06-22 0:21:28\", \"2021-06-22 0:21:44\", \"2021-06-22 0:21:44\", \"2021-06-22 0:21:28\", \"2021-06-22 0:21:28\", \"2021-06-22 0:03:58\", \"2021-06-22 0:04:49\", \"2021-06-22 0:04:49\", \"2021-06-22 0:03:58\", \"2021-06-22 0:03:58\", \"2021-06-22 0:09:32\", \"2021-06-22 0:09:49\", \"2021-06-22 0:09:49\", \"2021-06-22 0:09:32\", \"2021-06-22 0:09:32\", \"2021-06-22 0:12:01\", \"2021-06-22 0:13:30\", \"2021-06-22 0:13:30\", \"2021-06-22 0:12:01\", \"2021-06-22 0:12:01\", \"2021-06-22 0:17:43\", \"2021-06-22 0:18:01\", \"2021-06-22 0:18:01\", \"2021-06-22 0:17:43\", \"2021-06-22 0:17:43\", \"2021-06-22 0:00:00\", \"2021-06-22 0:00:28\", \"2021-06-22 0:00:28\", \"2021-06-22 0:00:00\", \"2021-06-22 0:00:00\", \"2021-06-22 0:13:30\", \"2021-06-22 0:14:29\", \"2021-06-22 0:14:29\", \"2021-06-22 0:13:30\", \"2021-06-22 0:13:30\", \"2021-06-22 0:18:52\", \"2021-06-22 0:19:22\", \"2021-06-22 0:19:22\", \"2021-06-22 0:18:52\", \"2021-06-22 0:18:52\", \"2021-06-22 0:18:01\", \"2021-06-22 0:18:18\", \"2021-06-22 0:18:18\", \"2021-06-22 0:18:01\", \"2021-06-22 0:18:01\", \"2021-06-22 0:16:40\", \"2021-06-22 0:17:43\", \"2021-06-22 0:17:43\", \"2021-06-22 0:16:40\", \"2021-06-22 0:16:40\", \"2021-06-22 0:06:34\", \"2021-06-22 0:07:49\", \"2021-06-22 0:07:49\", \"2021-06-22 0:06:34\", \"2021-06-22 0:06:34\", \"2021-06-22 0:01:30\", \"2021-06-22 0:01:51\", \"2021-06-22 0:01:51\", \"2021-06-22 0:01:30\"], \"y\": [13.8, 13.8, 14.2, 14.2, null, 12.8, 12.8, 13.2, 13.2, null, 11.8, 11.8, 12.2, 12.2, null, 10.8, 10.8, 11.2, 11.2, null, 9.8, 9.8, 10.2, 10.2, null, 8.8, 8.8, 9.2, 9.2, null, 7.8, 7.8, 8.2, 8.2, null, 6.8, 6.8, 7.2, 7.2, null, 5.8, 5.8, 6.2, 6.2, null, 4.8, 4.8, 5.2, 5.2, null, 3.8, 3.8, 4.2, 4.2, null, 2.8, 2.8, 3.2, 3.2, null, 1.8, 1.8, 2.2, 2.2, null, 0.8, 0.8, 1.2, 1.2, null, -0.2, -0.2, 0.2, 0.2]}, {\"fill\": \"toself\", \"fillcolor\": \"rgb(156, 70, 136)\", \"hoverinfo\": \"name\", \"legendgroup\": \"rgb(156, 70, 136)\", \"mode\": \"none\", \"name\": \"Pekerja 7\", \"showlegend\": true, \"type\": \"scatter\", \"x\": [\"2021-06-22 0:19:52\", \"2021-06-22 0:20:29\", \"2021-06-22 0:20:29\", \"2021-06-22 0:19:52\", \"2021-06-22 0:19:52\", \"2021-06-22 0:06:06\", \"2021-06-22 0:06:25\", \"2021-06-22 0:06:25\", \"2021-06-22 0:06:06\", \"2021-06-22 0:06:06\", \"2021-06-22 0:13:43\", \"2021-06-22 0:14:26\", \"2021-06-22 0:14:26\", \"2021-06-22 0:13:43\", \"2021-06-22 0:13:43\", \"2021-06-22 0:00:18\", \"2021-06-22 0:01:33\", \"2021-06-22 0:01:33\", \"2021-06-22 0:00:18\", \"2021-06-22 0:00:18\", \"2021-06-22 0:07:19\", \"2021-06-22 0:08:44\", \"2021-06-22 0:08:44\", \"2021-06-22 0:07:19\", \"2021-06-22 0:07:19\", \"2021-06-22 0:09:49\", \"2021-06-22 0:11:02\", \"2021-06-22 0:11:02\", \"2021-06-22 0:09:49\", \"2021-06-22 0:09:49\", \"2021-06-22 0:04:58\", \"2021-06-22 0:06:06\", \"2021-06-22 0:06:06\", \"2021-06-22 0:04:58\", \"2021-06-22 0:04:58\", \"2021-06-22 0:01:33\", \"2021-06-22 0:01:53\", \"2021-06-22 0:01:53\", \"2021-06-22 0:01:33\", \"2021-06-22 0:01:33\", \"2021-06-22 0:01:53\", \"2021-06-22 0:01:57\", \"2021-06-22 0:01:57\", \"2021-06-22 0:01:53\", \"2021-06-22 0:01:53\", \"2021-06-22 0:23:44\", \"2021-06-22 0:24:50\", \"2021-06-22 0:24:50\", \"2021-06-22 0:23:44\", \"2021-06-22 0:23:44\", \"2021-06-22 0:14:49\", \"2021-06-22 0:15:13\", \"2021-06-22 0:15:13\", \"2021-06-22 0:14:49\", \"2021-06-22 0:14:49\", \"2021-06-22 0:06:25\", \"2021-06-22 0:07:19\", \"2021-06-22 0:07:19\", \"2021-06-22 0:06:25\", \"2021-06-22 0:06:25\", \"2021-06-22 0:00:00\", \"2021-06-22 0:00:18\", \"2021-06-22 0:00:18\", \"2021-06-22 0:00:00\", \"2021-06-22 0:00:00\", \"2021-06-22 0:22:17\", \"2021-06-22 0:23:44\", \"2021-06-22 0:23:44\", \"2021-06-22 0:22:17\", \"2021-06-22 0:22:17\", \"2021-06-22 0:01:57\", \"2021-06-22 0:03:28\", \"2021-06-22 0:03:28\", \"2021-06-22 0:01:57\"], \"y\": [13.8, 13.8, 14.2, 14.2, null, 12.8, 12.8, 13.2, 13.2, null, 11.8, 11.8, 12.2, 12.2, null, 10.8, 10.8, 11.2, 11.2, null, 9.8, 9.8, 10.2, 10.2, null, 8.8, 8.8, 9.2, 9.2, null, 7.8, 7.8, 8.2, 8.2, null, 6.8, 6.8, 7.2, 7.2, null, 5.8, 5.8, 6.2, 6.2, null, 4.8, 4.8, 5.2, 5.2, null, 3.8, 3.8, 4.2, 4.2, null, 2.8, 2.8, 3.2, 3.2, null, 1.8, 1.8, 2.2, 2.2, null, 0.8, 0.8, 1.2, 1.2, null, -0.2, -0.2, 0.2, 0.2]}, {\"fill\": \"toself\", \"fillcolor\": \"rgb(161, 252, 186)\", \"hoverinfo\": \"name\", \"legendgroup\": \"rgb(161, 252, 186)\", \"mode\": \"none\", \"name\": \"Pekerja 10\", \"showlegend\": true, \"type\": \"scatter\", \"x\": [\"2021-06-22 0:07:58\", \"2021-06-22 0:08:15\", \"2021-06-22 0:08:15\", \"2021-06-22 0:07:58\", \"2021-06-22 0:07:58\", \"2021-06-22 0:17:00\", \"2021-06-22 0:18:09\", \"2021-06-22 0:18:09\", \"2021-06-22 0:17:00\", \"2021-06-22 0:17:00\", \"2021-06-22 0:06:17\", \"2021-06-22 0:07:17\", \"2021-06-22 0:07:17\", \"2021-06-22 0:06:17\", \"2021-06-22 0:06:17\", \"2021-06-22 0:11:28\", \"2021-06-22 0:12:57\", \"2021-06-22 0:12:57\", \"2021-06-22 0:11:28\", \"2021-06-22 0:11:28\", \"2021-06-22 0:20:23\", \"2021-06-22 0:20:29\", \"2021-06-22 0:20:29\", \"2021-06-22 0:20:23\", \"2021-06-22 0:20:23\", \"2021-06-22 0:22:01\", \"2021-06-22 0:22:14\", \"2021-06-22 0:22:14\", \"2021-06-22 0:22:01\", \"2021-06-22 0:22:01\", \"2021-06-22 0:01:34\", \"2021-06-22 0:01:39\", \"2021-06-22 0:01:39\", \"2021-06-22 0:01:34\", \"2021-06-22 0:01:34\", \"2021-06-22 0:14:49\", \"2021-06-22 0:16:17\", \"2021-06-22 0:16:17\", \"2021-06-22 0:14:49\", \"2021-06-22 0:14:49\", \"2021-06-22 0:07:17\", \"2021-06-22 0:07:58\", \"2021-06-22 0:07:58\", \"2021-06-22 0:07:17\", \"2021-06-22 0:07:17\", \"2021-06-22 0:05:07\", \"2021-06-22 0:05:37\", \"2021-06-22 0:05:37\", \"2021-06-22 0:05:07\", \"2021-06-22 0:05:07\", \"2021-06-22 0:13:31\", \"2021-06-22 0:14:49\", \"2021-06-22 0:14:49\", \"2021-06-22 0:13:31\", \"2021-06-22 0:13:31\", \"2021-06-22 0:02:52\", \"2021-06-22 0:03:51\", \"2021-06-22 0:03:51\", \"2021-06-22 0:02:52\", \"2021-06-22 0:02:52\", \"2021-06-22 0:18:09\", \"2021-06-22 0:18:54\", \"2021-06-22 0:18:54\", \"2021-06-22 0:18:09\", \"2021-06-22 0:18:09\", \"2021-06-22 0:08:15\", \"2021-06-22 0:09:21\", \"2021-06-22 0:09:21\", \"2021-06-22 0:08:15\", \"2021-06-22 0:08:15\", \"2021-06-22 0:18:54\", \"2021-06-22 0:20:16\", \"2021-06-22 0:20:16\", \"2021-06-22 0:18:54\"], \"y\": [13.8, 13.8, 14.2, 14.2, null, 12.8, 12.8, 13.2, 13.2, null, 11.8, 11.8, 12.2, 12.2, null, 10.8, 10.8, 11.2, 11.2, null, 9.8, 9.8, 10.2, 10.2, null, 8.8, 8.8, 9.2, 9.2, null, 7.8, 7.8, 8.2, 8.2, null, 6.8, 6.8, 7.2, 7.2, null, 5.8, 5.8, 6.2, 6.2, null, 4.8, 4.8, 5.2, 5.2, null, 3.8, 3.8, 4.2, 4.2, null, 2.8, 2.8, 3.2, 3.2, null, 1.8, 1.8, 2.2, 2.2, null, 0.8, 0.8, 1.2, 1.2, null, -0.2, -0.2, 0.2, 0.2]}, {\"fill\": \"toself\", \"fillcolor\": \"rgb(180, 157, 218)\", \"hoverinfo\": \"name\", \"legendgroup\": \"rgb(180, 157, 218)\", \"mode\": \"none\", \"name\": \"Pekerja 12\", \"showlegend\": true, \"type\": \"scatter\", \"x\": [\"2021-06-22 0:01:30\", \"2021-06-22 0:02:45\", \"2021-06-22 0:02:45\", \"2021-06-22 0:01:30\", \"2021-06-22 0:01:30\", \"2021-06-22 0:13:46\", \"2021-06-22 0:14:31\", \"2021-06-22 0:14:31\", \"2021-06-22 0:13:46\", \"2021-06-22 0:13:46\", \"2021-06-22 0:00:00\", \"2021-06-22 0:00:47\", \"2021-06-22 0:00:47\", \"2021-06-22 0:00:00\", \"2021-06-22 0:00:00\", \"2021-06-22 0:14:50\", \"2021-06-22 0:15:57\", \"2021-06-22 0:15:57\", \"2021-06-22 0:14:50\", \"2021-06-22 0:14:50\", \"2021-06-22 0:18:56\", \"2021-06-22 0:20:23\", \"2021-06-22 0:20:23\", \"2021-06-22 0:18:56\", \"2021-06-22 0:18:56\", \"2021-06-22 0:08:58\", \"2021-06-22 0:09:32\", \"2021-06-22 0:09:32\", \"2021-06-22 0:08:58\", \"2021-06-22 0:08:58\", \"2021-06-22 0:06:40\", \"2021-06-22 0:07:31\", \"2021-06-22 0:07:31\", \"2021-06-22 0:06:40\", \"2021-06-22 0:06:40\", \"2021-06-22 0:07:34\", \"2021-06-22 0:08:58\", \"2021-06-22 0:08:58\", \"2021-06-22 0:07:34\", \"2021-06-22 0:07:34\", \"2021-06-22 0:10:36\", \"2021-06-22 0:11:04\", \"2021-06-22 0:11:04\", \"2021-06-22 0:10:36\", \"2021-06-22 0:10:36\", \"2021-06-22 0:11:04\", \"2021-06-22 0:12:04\", \"2021-06-22 0:12:04\", \"2021-06-22 0:11:04\", \"2021-06-22 0:11:04\", \"2021-06-22 0:07:31\", \"2021-06-22 0:07:34\", \"2021-06-22 0:07:34\", \"2021-06-22 0:07:31\", \"2021-06-22 0:07:31\", \"2021-06-22 0:16:12\", \"2021-06-22 0:17:10\", \"2021-06-22 0:17:10\", \"2021-06-22 0:16:12\", \"2021-06-22 0:16:12\", \"2021-06-22 0:04:50\", \"2021-06-22 0:04:58\", \"2021-06-22 0:04:58\", \"2021-06-22 0:04:50\", \"2021-06-22 0:04:50\", \"2021-06-22 0:12:37\", \"2021-06-22 0:13:46\", \"2021-06-22 0:13:46\", \"2021-06-22 0:12:37\", \"2021-06-22 0:12:37\", \"2021-06-22 0:00:47\", \"2021-06-22 0:01:30\", \"2021-06-22 0:01:30\", \"2021-06-22 0:00:47\"], \"y\": [13.8, 13.8, 14.2, 14.2, null, 12.8, 12.8, 13.2, 13.2, null, 11.8, 11.8, 12.2, 12.2, null, 10.8, 10.8, 11.2, 11.2, null, 9.8, 9.8, 10.2, 10.2, null, 8.8, 8.8, 9.2, 9.2, null, 7.8, 7.8, 8.2, 8.2, null, 6.8, 6.8, 7.2, 7.2, null, 5.8, 5.8, 6.2, 6.2, null, 4.8, 4.8, 5.2, 5.2, null, 3.8, 3.8, 4.2, 4.2, null, 2.8, 2.8, 3.2, 3.2, null, 1.8, 1.8, 2.2, 2.2, null, 0.8, 0.8, 1.2, 1.2, null, -0.2, -0.2, 0.2, 0.2]}, {\"fill\": \"toself\", \"fillcolor\": \"rgb(205, 2, 246)\", \"hoverinfo\": \"name\", \"legendgroup\": \"rgb(205, 2, 246)\", \"mode\": \"none\", \"name\": \"Pekerja 15\", \"showlegend\": true, \"type\": \"scatter\", \"x\": [\"2021-06-22 0:16:15\", \"2021-06-22 0:16:23\", \"2021-06-22 0:16:23\", \"2021-06-22 0:16:15\", \"2021-06-22 0:16:15\", \"2021-06-22 0:12:41\", \"2021-06-22 0:13:07\", \"2021-06-22 0:13:07\", \"2021-06-22 0:12:41\", \"2021-06-22 0:12:41\", \"2021-06-22 0:21:28\", \"2021-06-22 0:22:51\", \"2021-06-22 0:22:51\", \"2021-06-22 0:21:28\", \"2021-06-22 0:21:28\", \"2021-06-22 0:20:01\", \"2021-06-22 0:21:28\", \"2021-06-22 0:21:28\", \"2021-06-22 0:20:01\", \"2021-06-22 0:20:01\", \"2021-06-22 0:11:52\", \"2021-06-22 0:12:29\", \"2021-06-22 0:12:29\", \"2021-06-22 0:11:52\", \"2021-06-22 0:11:52\", \"2021-06-22 0:23:11\", \"2021-06-22 0:24:48\", \"2021-06-22 0:24:48\", \"2021-06-22 0:23:11\", \"2021-06-22 0:23:11\", \"2021-06-22 0:06:06\", \"2021-06-22 0:06:40\", \"2021-06-22 0:06:40\", \"2021-06-22 0:06:06\", \"2021-06-22 0:06:06\", \"2021-06-22 0:19:23\", \"2021-06-22 0:19:35\", \"2021-06-22 0:19:35\", \"2021-06-22 0:19:23\", \"2021-06-22 0:19:23\", \"2021-06-22 0:03:19\", \"2021-06-22 0:03:35\", \"2021-06-22 0:03:35\", \"2021-06-22 0:03:19\", \"2021-06-22 0:03:19\", \"2021-06-22 0:22:51\", \"2021-06-22 0:23:11\", \"2021-06-22 0:23:11\", \"2021-06-22 0:22:51\", \"2021-06-22 0:22:51\", \"2021-06-22 0:00:00\", \"2021-06-22 0:00:57\", \"2021-06-22 0:00:57\", \"2021-06-22 0:00:00\", \"2021-06-22 0:00:00\", \"2021-06-22 0:16:07\", \"2021-06-22 0:16:12\", \"2021-06-22 0:16:12\", \"2021-06-22 0:16:07\", \"2021-06-22 0:16:07\", \"2021-06-22 0:04:08\", \"2021-06-22 0:04:50\", \"2021-06-22 0:04:50\", \"2021-06-22 0:04:08\", \"2021-06-22 0:04:08\", \"2021-06-22 0:13:46\", \"2021-06-22 0:14:54\", \"2021-06-22 0:14:54\", \"2021-06-22 0:13:46\", \"2021-06-22 0:13:46\", \"2021-06-22 0:14:54\", \"2021-06-22 0:16:07\", \"2021-06-22 0:16:07\", \"2021-06-22 0:14:54\"], \"y\": [13.8, 13.8, 14.2, 14.2, null, 12.8, 12.8, 13.2, 13.2, null, 11.8, 11.8, 12.2, 12.2, null, 10.8, 10.8, 11.2, 11.2, null, 9.8, 9.8, 10.2, 10.2, null, 8.8, 8.8, 9.2, 9.2, null, 7.8, 7.8, 8.2, 8.2, null, 6.8, 6.8, 7.2, 7.2, null, 5.8, 5.8, 6.2, 6.2, null, 4.8, 4.8, 5.2, 5.2, null, 3.8, 3.8, 4.2, 4.2, null, 2.8, 2.8, 3.2, 3.2, null, 1.8, 1.8, 2.2, 2.2, null, 0.8, 0.8, 1.2, 1.2, null, -0.2, -0.2, 0.2, 0.2]}, {\"fill\": \"toself\", \"fillcolor\": \"rgb(216, 55, 171)\", \"hoverinfo\": \"name\", \"legendgroup\": \"rgb(216, 55, 171)\", \"mode\": \"none\", \"name\": \"Pekerja 2\", \"showlegend\": true, \"type\": \"scatter\", \"x\": [\"2021-06-22 0:18:52\", \"2021-06-22 0:19:10\", \"2021-06-22 0:19:10\", \"2021-06-22 0:18:52\", \"2021-06-22 0:18:52\", \"2021-06-22 0:22:02\", \"2021-06-22 0:23:41\", \"2021-06-22 0:23:41\", \"2021-06-22 0:22:02\", \"2021-06-22 0:22:02\", \"2021-06-22 0:23:41\", \"2021-06-22 0:24:14\", \"2021-06-22 0:24:14\", \"2021-06-22 0:23:41\", \"2021-06-22 0:23:41\", \"2021-06-22 0:19:10\", \"2021-06-22 0:20:01\", \"2021-06-22 0:20:01\", \"2021-06-22 0:19:10\", \"2021-06-22 0:19:10\", \"2021-06-22 0:01:30\", \"2021-06-22 0:02:44\", \"2021-06-22 0:02:44\", \"2021-06-22 0:01:30\", \"2021-06-22 0:01:30\", \"2021-06-22 0:03:39\", \"2021-06-22 0:04:10\", \"2021-06-22 0:04:10\", \"2021-06-22 0:03:39\", \"2021-06-22 0:03:39\", \"2021-06-22 0:16:02\", \"2021-06-22 0:17:33\", \"2021-06-22 0:17:33\", \"2021-06-22 0:16:02\", \"2021-06-22 0:16:02\", \"2021-06-22 0:04:37\", \"2021-06-22 0:06:05\", \"2021-06-22 0:06:05\", \"2021-06-22 0:04:37\", \"2021-06-22 0:04:37\", \"2021-06-22 0:13:23\", \"2021-06-22 0:14:41\", \"2021-06-22 0:14:41\", \"2021-06-22 0:13:23\", \"2021-06-22 0:13:23\", \"2021-06-22 0:15:55\", \"2021-06-22 0:16:02\", \"2021-06-22 0:16:02\", \"2021-06-22 0:15:55\", \"2021-06-22 0:15:55\", \"2021-06-22 0:17:33\", \"2021-06-22 0:18:52\", \"2021-06-22 0:18:52\", \"2021-06-22 0:17:33\", \"2021-06-22 0:17:33\", \"2021-06-22 0:15:47\", \"2021-06-22 0:15:55\", \"2021-06-22 0:15:55\", \"2021-06-22 0:15:47\", \"2021-06-22 0:15:47\", \"2021-06-22 0:20:24\", \"2021-06-22 0:20:42\", \"2021-06-22 0:20:42\", \"2021-06-22 0:20:24\", \"2021-06-22 0:20:24\", \"2021-06-22 0:11:19\", \"2021-06-22 0:12:16\", \"2021-06-22 0:12:16\", \"2021-06-22 0:11:19\", \"2021-06-22 0:11:19\", \"2021-06-22 0:10:28\", \"2021-06-22 0:11:19\", \"2021-06-22 0:11:19\", \"2021-06-22 0:10:28\"], \"y\": [13.8, 13.8, 14.2, 14.2, null, 12.8, 12.8, 13.2, 13.2, null, 11.8, 11.8, 12.2, 12.2, null, 10.8, 10.8, 11.2, 11.2, null, 9.8, 9.8, 10.2, 10.2, null, 8.8, 8.8, 9.2, 9.2, null, 7.8, 7.8, 8.2, 8.2, null, 6.8, 6.8, 7.2, 7.2, null, 5.8, 5.8, 6.2, 6.2, null, 4.8, 4.8, 5.2, 5.2, null, 3.8, 3.8, 4.2, 4.2, null, 2.8, 2.8, 3.2, 3.2, null, 1.8, 1.8, 2.2, 2.2, null, 0.8, 0.8, 1.2, 1.2, null, -0.2, -0.2, 0.2, 0.2]}, {\"fill\": \"toself\", \"fillcolor\": \"rgb(223, 23, 105)\", \"hoverinfo\": \"name\", \"legendgroup\": \"rgb(223, 23, 105)\", \"mode\": \"none\", \"name\": \"Pekerja 13\", \"showlegend\": true, \"type\": \"scatter\", \"x\": [\"2021-06-22 0:12:37\", \"2021-06-22 0:13:54\", \"2021-06-22 0:13:54\", \"2021-06-22 0:12:37\", \"2021-06-22 0:12:37\", \"2021-06-22 0:19:42\", \"2021-06-22 0:20:30\", \"2021-06-22 0:20:30\", \"2021-06-22 0:19:42\", \"2021-06-22 0:19:42\", \"2021-06-22 0:10:37\", \"2021-06-22 0:10:57\", \"2021-06-22 0:10:57\", \"2021-06-22 0:10:37\", \"2021-06-22 0:10:37\", \"2021-06-22 0:10:57\", \"2021-06-22 0:11:28\", \"2021-06-22 0:11:28\", \"2021-06-22 0:10:57\", \"2021-06-22 0:10:57\", \"2021-06-22 0:17:36\", \"2021-06-22 0:18:56\", \"2021-06-22 0:18:56\", \"2021-06-22 0:17:36\", \"2021-06-22 0:17:36\", \"2021-06-22 0:00:00\", \"2021-06-22 0:01:05\", \"2021-06-22 0:01:05\", \"2021-06-22 0:00:00\", \"2021-06-22 0:00:00\", \"2021-06-22 0:11:28\", \"2021-06-22 0:12:01\", \"2021-06-22 0:12:01\", \"2021-06-22 0:11:28\", \"2021-06-22 0:11:28\", \"2021-06-22 0:23:15\", \"2021-06-22 0:24:51\", \"2021-06-22 0:24:51\", \"2021-06-22 0:23:15\", \"2021-06-22 0:23:15\", \"2021-06-22 0:07:58\", \"2021-06-22 0:09:00\", \"2021-06-22 0:09:00\", \"2021-06-22 0:07:58\", \"2021-06-22 0:07:58\", \"2021-06-22 0:12:04\", \"2021-06-22 0:12:37\", \"2021-06-22 0:12:37\", \"2021-06-22 0:12:04\", \"2021-06-22 0:12:04\", \"2021-06-22 0:09:00\", \"2021-06-22 0:10:37\", \"2021-06-22 0:10:37\", \"2021-06-22 0:09:00\", \"2021-06-22 0:09:00\", \"2021-06-22 0:20:30\", \"2021-06-22 0:22:00\", \"2021-06-22 0:22:00\", \"2021-06-22 0:20:30\", \"2021-06-22 0:20:30\", \"2021-06-22 0:22:00\", \"2021-06-22 0:23:15\", \"2021-06-22 0:23:15\", \"2021-06-22 0:22:00\", \"2021-06-22 0:22:00\", \"2021-06-22 0:14:54\", \"2021-06-22 0:15:44\", \"2021-06-22 0:15:44\", \"2021-06-22 0:14:54\", \"2021-06-22 0:14:54\", \"2021-06-22 0:24:51\", \"2021-06-22 0:25:35\", \"2021-06-22 0:25:35\", \"2021-06-22 0:24:51\"], \"y\": [13.8, 13.8, 14.2, 14.2, null, 12.8, 12.8, 13.2, 13.2, null, 11.8, 11.8, 12.2, 12.2, null, 10.8, 10.8, 11.2, 11.2, null, 9.8, 9.8, 10.2, 10.2, null, 8.8, 8.8, 9.2, 9.2, null, 7.8, 7.8, 8.2, 8.2, null, 6.8, 6.8, 7.2, 7.2, null, 5.8, 5.8, 6.2, 6.2, null, 4.8, 4.8, 5.2, 5.2, null, 3.8, 3.8, 4.2, 4.2, null, 2.8, 2.8, 3.2, 3.2, null, 1.8, 1.8, 2.2, 2.2, null, 0.8, 0.8, 1.2, 1.2, null, -0.2, -0.2, 0.2, 0.2]}, {\"fill\": \"toself\", \"fillcolor\": \"rgb(254, 122, 105)\", \"hoverinfo\": \"name\", \"legendgroup\": \"rgb(254, 122, 105)\", \"mode\": \"none\", \"name\": \"Pekerja 6\", \"showlegend\": true, \"type\": \"scatter\", \"x\": [\"2021-06-22 0:14:48\", \"2021-06-22 0:16:15\", \"2021-06-22 0:16:15\", \"2021-06-22 0:14:48\", \"2021-06-22 0:14:48\", \"2021-06-22 0:12:15\", \"2021-06-22 0:12:41\", \"2021-06-22 0:12:41\", \"2021-06-22 0:12:15\", \"2021-06-22 0:12:15\", \"2021-06-22 0:10:57\", \"2021-06-22 0:12:15\", \"2021-06-22 0:12:15\", \"2021-06-22 0:10:57\", \"2021-06-22 0:10:57\", \"2021-06-22 0:01:34\", \"2021-06-22 0:02:35\", \"2021-06-22 0:02:35\", \"2021-06-22 0:01:34\", \"2021-06-22 0:01:34\", \"2021-06-22 0:05:34\", \"2021-06-22 0:06:05\", \"2021-06-22 0:06:05\", \"2021-06-22 0:05:34\", \"2021-06-22 0:05:34\", \"2021-06-22 0:01:05\", \"2021-06-22 0:01:34\", \"2021-06-22 0:01:34\", \"2021-06-22 0:01:05\", \"2021-06-22 0:01:05\", \"2021-06-22 0:17:33\", \"2021-06-22 0:17:47\", \"2021-06-22 0:17:47\", \"2021-06-22 0:17:33\", \"2021-06-22 0:17:33\", \"2021-06-22 0:08:58\", \"2021-06-22 0:10:21\", \"2021-06-22 0:10:21\", \"2021-06-22 0:08:58\", \"2021-06-22 0:08:58\", \"2021-06-22 0:19:57\", \"2021-06-22 0:20:27\", \"2021-06-22 0:20:27\", \"2021-06-22 0:19:57\", \"2021-06-22 0:19:57\", \"2021-06-22 0:16:15\", \"2021-06-22 0:17:17\", \"2021-06-22 0:17:17\", \"2021-06-22 0:16:15\", \"2021-06-22 0:16:15\", \"2021-06-22 0:12:41\", \"2021-06-22 0:13:31\", \"2021-06-22 0:13:31\", \"2021-06-22 0:12:41\", \"2021-06-22 0:12:41\", \"2021-06-22 0:05:18\", \"2021-06-22 0:05:34\", \"2021-06-22 0:05:34\", \"2021-06-22 0:05:18\", \"2021-06-22 0:05:18\", \"2021-06-22 0:02:40\", \"2021-06-22 0:04:08\", \"2021-06-22 0:04:08\", \"2021-06-22 0:02:40\", \"2021-06-22 0:02:40\", \"2021-06-22 0:04:08\", \"2021-06-22 0:05:18\", \"2021-06-22 0:05:18\", \"2021-06-22 0:04:08\", \"2021-06-22 0:04:08\", \"2021-06-22 0:06:05\", \"2021-06-22 0:07:10\", \"2021-06-22 0:07:10\", \"2021-06-22 0:06:05\"], \"y\": [13.8, 13.8, 14.2, 14.2, null, 12.8, 12.8, 13.2, 13.2, null, 11.8, 11.8, 12.2, 12.2, null, 10.8, 10.8, 11.2, 11.2, null, 9.8, 9.8, 10.2, 10.2, null, 8.8, 8.8, 9.2, 9.2, null, 7.8, 7.8, 8.2, 8.2, null, 6.8, 6.8, 7.2, 7.2, null, 5.8, 5.8, 6.2, 6.2, null, 4.8, 4.8, 5.2, 5.2, null, 3.8, 3.8, 4.2, 4.2, null, 2.8, 2.8, 3.2, 3.2, null, 1.8, 1.8, 2.2, 2.2, null, 0.8, 0.8, 1.2, 1.2, null, -0.2, -0.2, 0.2, 0.2]}, {\"fill\": \"toself\", \"fillcolor\": \"rgb(31, 91, 179)\", \"hoverinfo\": \"name\", \"legendgroup\": \"rgb(31, 91, 179)\", \"mode\": \"none\", \"name\": \"Pekerja 8\", \"showlegend\": true, \"type\": \"scatter\", \"x\": [\"2021-06-22 0:03:39\", \"2021-06-22 0:03:48\", \"2021-06-22 0:03:48\", \"2021-06-22 0:03:39\", \"2021-06-22 0:03:39\", \"2021-06-22 0:08:49\", \"2021-06-22 0:09:51\", \"2021-06-22 0:09:51\", \"2021-06-22 0:08:49\", \"2021-06-22 0:08:49\", \"2021-06-22 0:12:15\", \"2021-06-22 0:12:21\", \"2021-06-22 0:12:21\", \"2021-06-22 0:12:15\", \"2021-06-22 0:12:15\", \"2021-06-22 0:13:30\", \"2021-06-22 0:14:50\", \"2021-06-22 0:14:50\", \"2021-06-22 0:13:30\", \"2021-06-22 0:13:30\", \"2021-06-22 0:13:23\", \"2021-06-22 0:13:30\", \"2021-06-22 0:13:30\", \"2021-06-22 0:13:23\", \"2021-06-22 0:13:23\", \"2021-06-22 0:02:47\", \"2021-06-22 0:03:39\", \"2021-06-22 0:03:39\", \"2021-06-22 0:02:47\", \"2021-06-22 0:02:47\", \"2021-06-22 0:17:47\", \"2021-06-22 0:18:44\", \"2021-06-22 0:18:44\", \"2021-06-22 0:17:47\", \"2021-06-22 0:17:47\", \"2021-06-22 0:03:48\", \"2021-06-22 0:04:37\", \"2021-06-22 0:04:37\", \"2021-06-22 0:03:48\", \"2021-06-22 0:03:48\", \"2021-06-22 0:12:21\", \"2021-06-22 0:13:23\", \"2021-06-22 0:13:23\", \"2021-06-22 0:12:21\", \"2021-06-22 0:12:21\", \"2021-06-22 0:17:17\", \"2021-06-22 0:17:20\", \"2021-06-22 0:17:20\", \"2021-06-22 0:17:17\", \"2021-06-22 0:17:17\", \"2021-06-22 0:19:43\", \"2021-06-22 0:19:50\", \"2021-06-22 0:19:50\", \"2021-06-22 0:19:43\", \"2021-06-22 0:19:43\", \"2021-06-22 0:00:00\", \"2021-06-22 0:00:32\", \"2021-06-22 0:00:32\", \"2021-06-22 0:00:00\", \"2021-06-22 0:00:00\", \"2021-06-22 0:04:58\", \"2021-06-22 0:05:59\", \"2021-06-22 0:05:59\", \"2021-06-22 0:04:58\", \"2021-06-22 0:04:58\", \"2021-06-22 0:05:59\", \"2021-06-22 0:06:34\", \"2021-06-22 0:06:34\", \"2021-06-22 0:05:59\", \"2021-06-22 0:05:59\", \"2021-06-22 0:07:10\", \"2021-06-22 0:08:49\", \"2021-06-22 0:08:49\", \"2021-06-22 0:07:10\"], \"y\": [13.8, 13.8, 14.2, 14.2, null, 12.8, 12.8, 13.2, 13.2, null, 11.8, 11.8, 12.2, 12.2, null, 10.8, 10.8, 11.2, 11.2, null, 9.8, 9.8, 10.2, 10.2, null, 8.8, 8.8, 9.2, 9.2, null, 7.8, 7.8, 8.2, 8.2, null, 6.8, 6.8, 7.2, 7.2, null, 5.8, 5.8, 6.2, 6.2, null, 4.8, 4.8, 5.2, 5.2, null, 3.8, 3.8, 4.2, 4.2, null, 2.8, 2.8, 3.2, 3.2, null, 1.8, 1.8, 2.2, 2.2, null, 0.8, 0.8, 1.2, 1.2, null, -0.2, -0.2, 0.2, 0.2]}, {\"fill\": \"toself\", \"fillcolor\": \"rgb(76, 88, 228)\", \"hoverinfo\": \"name\", \"legendgroup\": \"rgb(76, 88, 228)\", \"mode\": \"none\", \"name\": \"Pekerja 4\", \"showlegend\": true, \"type\": \"scatter\", \"x\": [\"2021-06-22 0:05:51\", \"2021-06-22 0:07:25\", \"2021-06-22 0:07:25\", \"2021-06-22 0:05:51\", \"2021-06-22 0:05:51\", \"2021-06-22 0:20:30\", \"2021-06-22 0:22:02\", \"2021-06-22 0:22:02\", \"2021-06-22 0:20:30\", \"2021-06-22 0:20:30\", \"2021-06-22 0:02:47\", \"2021-06-22 0:03:10\", \"2021-06-22 0:03:10\", \"2021-06-22 0:02:47\", \"2021-06-22 0:02:47\", \"2021-06-22 0:22:34\", \"2021-06-22 0:22:43\", \"2021-06-22 0:22:43\", \"2021-06-22 0:22:34\", \"2021-06-22 0:22:34\", \"2021-06-22 0:10:19\", \"2021-06-22 0:11:52\", \"2021-06-22 0:11:52\", \"2021-06-22 0:10:19\", \"2021-06-22 0:10:19\", \"2021-06-22 0:01:34\", \"2021-06-22 0:02:47\", \"2021-06-22 0:02:47\", \"2021-06-22 0:01:34\", \"2021-06-22 0:01:34\", \"2021-06-22 0:04:28\", \"2021-06-22 0:04:58\", \"2021-06-22 0:04:58\", \"2021-06-22 0:04:28\", \"2021-06-22 0:04:28\", \"2021-06-22 0:11:52\", \"2021-06-22 0:12:24\", \"2021-06-22 0:12:24\", \"2021-06-22 0:11:52\", \"2021-06-22 0:11:52\", \"2021-06-22 0:19:01\", \"2021-06-22 0:19:57\", \"2021-06-22 0:19:57\", \"2021-06-22 0:19:01\", \"2021-06-22 0:19:01\", \"2021-06-22 0:03:10\", \"2021-06-22 0:03:40\", \"2021-06-22 0:03:40\", \"2021-06-22 0:03:10\", \"2021-06-22 0:03:10\", \"2021-06-22 0:04:58\", \"2021-06-22 0:05:51\", \"2021-06-22 0:05:51\", \"2021-06-22 0:04:58\", \"2021-06-22 0:04:58\", \"2021-06-22 0:13:55\", \"2021-06-22 0:14:25\", \"2021-06-22 0:14:25\", \"2021-06-22 0:13:55\", \"2021-06-22 0:13:55\", \"2021-06-22 0:19:57\", \"2021-06-22 0:20:24\", \"2021-06-22 0:20:24\", \"2021-06-22 0:19:57\", \"2021-06-22 0:19:57\", \"2021-06-22 0:09:21\", \"2021-06-22 0:10:19\", \"2021-06-22 0:10:19\", \"2021-06-22 0:09:21\", \"2021-06-22 0:09:21\", \"2021-06-22 0:12:24\", \"2021-06-22 0:13:55\", \"2021-06-22 0:13:55\", \"2021-06-22 0:12:24\"], \"y\": [13.8, 13.8, 14.2, 14.2, null, 12.8, 12.8, 13.2, 13.2, null, 11.8, 11.8, 12.2, 12.2, null, 10.8, 10.8, 11.2, 11.2, null, 9.8, 9.8, 10.2, 10.2, null, 8.8, 8.8, 9.2, 9.2, null, 7.8, 7.8, 8.2, 8.2, null, 6.8, 6.8, 7.2, 7.2, null, 5.8, 5.8, 6.2, 6.2, null, 4.8, 4.8, 5.2, 5.2, null, 3.8, 3.8, 4.2, 4.2, null, 2.8, 2.8, 3.2, 3.2, null, 1.8, 1.8, 2.2, 2.2, null, 0.8, 0.8, 1.2, 1.2, null, -0.2, -0.2, 0.2, 0.2]}, {\"fill\": \"toself\", \"fillcolor\": \"rgb(82, 38, 245)\", \"hoverinfo\": \"name\", \"legendgroup\": \"rgb(82, 38, 245)\", \"mode\": \"none\", \"name\": \"Pekerja 11\", \"showlegend\": true, \"type\": \"scatter\", \"x\": [\"2021-06-22 0:05:19\", \"2021-06-22 0:05:27\", \"2021-06-22 0:05:27\", \"2021-06-22 0:05:19\", \"2021-06-22 0:05:19\", \"2021-06-22 0:18:09\", \"2021-06-22 0:19:42\", \"2021-06-22 0:19:42\", \"2021-06-22 0:18:09\", \"2021-06-22 0:18:09\", \"2021-06-22 0:24:21\", \"2021-06-22 0:25:34\", \"2021-06-22 0:25:34\", \"2021-06-22 0:24:21\", \"2021-06-22 0:24:21\", \"2021-06-22 0:15:57\", \"2021-06-22 0:17:27\", \"2021-06-22 0:17:27\", \"2021-06-22 0:15:57\", \"2021-06-22 0:15:57\", \"2021-06-22 0:00:00\", \"2021-06-22 0:01:30\", \"2021-06-22 0:01:30\", \"2021-06-22 0:00:00\", \"2021-06-22 0:00:00\", \"2021-06-22 0:05:27\", \"2021-06-22 0:06:58\", \"2021-06-22 0:06:58\", \"2021-06-22 0:05:27\", \"2021-06-22 0:05:27\", \"2021-06-22 0:08:18\", \"2021-06-22 0:09:47\", \"2021-06-22 0:09:47\", \"2021-06-22 0:08:18\", \"2021-06-22 0:08:18\", \"2021-06-22 0:01:53\", \"2021-06-22 0:02:20\", \"2021-06-22 0:02:20\", \"2021-06-22 0:01:53\", \"2021-06-22 0:01:53\", \"2021-06-22 0:09:47\", \"2021-06-22 0:10:36\", \"2021-06-22 0:10:36\", \"2021-06-22 0:09:47\", \"2021-06-22 0:09:47\", \"2021-06-22 0:20:49\", \"2021-06-22 0:21:24\", \"2021-06-22 0:21:24\", \"2021-06-22 0:20:49\", \"2021-06-22 0:20:49\", \"2021-06-22 0:11:51\", \"2021-06-22 0:12:19\", \"2021-06-22 0:12:19\", \"2021-06-22 0:11:51\", \"2021-06-22 0:11:51\", \"2021-06-22 0:19:42\", \"2021-06-22 0:19:48\", \"2021-06-22 0:19:48\", \"2021-06-22 0:19:42\", \"2021-06-22 0:19:42\", \"2021-06-22 0:06:58\", \"2021-06-22 0:08:18\", \"2021-06-22 0:08:18\", \"2021-06-22 0:06:58\", \"2021-06-22 0:06:58\", \"2021-06-22 0:05:18\", \"2021-06-22 0:05:19\", \"2021-06-22 0:05:19\", \"2021-06-22 0:05:18\", \"2021-06-22 0:05:18\", \"2021-06-22 0:11:19\", \"2021-06-22 0:11:51\", \"2021-06-22 0:11:51\", \"2021-06-22 0:11:19\"], \"y\": [13.8, 13.8, 14.2, 14.2, null, 12.8, 12.8, 13.2, 13.2, null, 11.8, 11.8, 12.2, 12.2, null, 10.8, 10.8, 11.2, 11.2, null, 9.8, 9.8, 10.2, 10.2, null, 8.8, 8.8, 9.2, 9.2, null, 7.8, 7.8, 8.2, 8.2, null, 6.8, 6.8, 7.2, 7.2, null, 5.8, 5.8, 6.2, 6.2, null, 4.8, 4.8, 5.2, 5.2, null, 3.8, 3.8, 4.2, 4.2, null, 2.8, 2.8, 3.2, 3.2, null, 1.8, 1.8, 2.2, 2.2, null, 0.8, 0.8, 1.2, 1.2, null, -0.2, -0.2, 0.2, 0.2]}, {\"fill\": \"toself\", \"fillcolor\": \"rgb(96, 201, 208)\", \"hoverinfo\": \"name\", \"legendgroup\": \"rgb(96, 201, 208)\", \"mode\": \"none\", \"name\": \"Pekerja 9\", \"showlegend\": true, \"type\": \"scatter\", \"x\": [\"2021-06-22 0:07:25\", \"2021-06-22 0:07:38\", \"2021-06-22 0:07:38\", \"2021-06-22 0:07:25\", \"2021-06-22 0:07:25\", \"2021-06-22 0:09:51\", \"2021-06-22 0:11:18\", \"2021-06-22 0:11:18\", \"2021-06-22 0:09:51\", \"2021-06-22 0:09:51\", \"2021-06-22 0:12:21\", \"2021-06-22 0:13:43\", \"2021-06-22 0:13:43\", \"2021-06-22 0:12:21\", \"2021-06-22 0:12:21\", \"2021-06-22 0:22:19\", \"2021-06-22 0:22:34\", \"2021-06-22 0:22:34\", \"2021-06-22 0:22:19\", \"2021-06-22 0:22:19\", \"2021-06-22 0:16:40\", \"2021-06-22 0:17:36\", \"2021-06-22 0:17:36\", \"2021-06-22 0:16:40\", \"2021-06-22 0:16:40\", \"2021-06-22 0:13:59\", \"2021-06-22 0:15:22\", \"2021-06-22 0:15:22\", \"2021-06-22 0:13:59\", \"2021-06-22 0:13:59\", \"2021-06-22 0:02:52\", \"2021-06-22 0:04:28\", \"2021-06-22 0:04:28\", \"2021-06-22 0:02:52\", \"2021-06-22 0:02:52\", \"2021-06-22 0:19:35\", \"2021-06-22 0:19:43\", \"2021-06-22 0:19:43\", \"2021-06-22 0:19:35\", \"2021-06-22 0:19:35\", \"2021-06-22 0:17:36\", \"2021-06-22 0:19:01\", \"2021-06-22 0:19:01\", \"2021-06-22 0:17:36\", \"2021-06-22 0:17:36\", \"2021-06-22 0:19:43\", \"2021-06-22 0:20:49\", \"2021-06-22 0:20:49\", \"2021-06-22 0:19:43\", \"2021-06-22 0:19:43\", \"2021-06-22 0:00:57\", \"2021-06-22 0:02:22\", \"2021-06-22 0:02:22\", \"2021-06-22 0:00:57\", \"2021-06-22 0:00:57\", \"2021-06-22 0:02:22\", \"2021-06-22 0:02:52\", \"2021-06-22 0:02:52\", \"2021-06-22 0:02:22\", \"2021-06-22 0:02:22\", \"2021-06-22 0:15:22\", \"2021-06-22 0:16:40\", \"2021-06-22 0:16:40\", \"2021-06-22 0:15:22\", \"2021-06-22 0:15:22\", \"2021-06-22 0:20:49\", \"2021-06-22 0:22:17\", \"2021-06-22 0:22:17\", \"2021-06-22 0:20:49\", \"2021-06-22 0:20:49\", \"2021-06-22 0:04:28\", \"2021-06-22 0:05:59\", \"2021-06-22 0:05:59\", \"2021-06-22 0:04:28\"], \"y\": [13.8, 13.8, 14.2, 14.2, null, 12.8, 12.8, 13.2, 13.2, null, 11.8, 11.8, 12.2, 12.2, null, 10.8, 10.8, 11.2, 11.2, null, 9.8, 9.8, 10.2, 10.2, null, 8.8, 8.8, 9.2, 9.2, null, 7.8, 7.8, 8.2, 8.2, null, 6.8, 6.8, 7.2, 7.2, null, 5.8, 5.8, 6.2, 6.2, null, 4.8, 4.8, 5.2, 5.2, null, 3.8, 3.8, 4.2, 4.2, null, 2.8, 2.8, 3.2, 3.2, null, 1.8, 1.8, 2.2, 2.2, null, 0.8, 0.8, 1.2, 1.2, null, -0.2, -0.2, 0.2, 0.2]}, {\"legendgroup\": \"rgb(0, 134, 127)\", \"marker\": {\"color\": \"rgb(0, 134, 127)\", \"opacity\": 0, \"size\": 1}, \"mode\": \"markers\", \"name\": \"\", \"showlegend\": false, \"text\": [null, null, null, null, null, null, null, null, null, null, null, null, null, null, null, null, null, null, null, null, null, null, null, null, null, null, null, null, null, null], \"type\": \"scatter\", \"x\": [\"2021-06-22 0:13:54\", \"2021-06-22 0:14:48\", \"2021-06-22 0:00:00\", \"2021-06-22 0:00:04\", \"2021-06-22 0:14:48\", \"2021-06-22 0:15:56\", \"2021-06-22 0:21:44\", \"2021-06-22 0:22:19\", \"2021-06-22 0:20:29\", \"2021-06-22 0:21:08\", \"2021-06-22 0:12:37\", \"2021-06-22 0:12:43\", \"2021-06-22 0:09:47\", \"2021-06-22 0:10:37\", \"2021-06-22 0:18:01\", \"2021-06-22 0:19:23\", \"2021-06-22 0:01:57\", \"2021-06-22 0:03:19\", \"2021-06-22 0:04:27\", \"2021-06-22 0:05:07\", \"2021-06-22 0:19:23\", \"2021-06-22 0:19:43\", \"2021-06-22 0:10:37\", \"2021-06-22 0:11:31\", \"2021-06-22 0:08:18\", \"2021-06-22 0:09:44\", \"2021-06-22 0:12:16\", \"2021-06-22 0:12:37\", \"2021-06-22 0:22:19\", \"2021-06-22 0:23:27\"], \"y\": [14, 14, 13, 13, 12, 12, 11, 11, 10, 10, 9, 9, 8, 8, 7, 7, 6, 6, 5, 5, 4, 4, 3, 3, 2, 2, 1, 1, 0, 0]}, {\"legendgroup\": \"rgb(110, 105, 193)\", \"marker\": {\"color\": \"rgb(110, 105, 193)\", \"opacity\": 0, \"size\": 1}, \"mode\": \"markers\", \"name\": \"\", \"showlegend\": false, \"text\": [null, null, null, null, null, null, null, null, null, null, null, null, null, null, null, null, null, null, null, null, null, null, null, null, null, null, null, null, null, null], \"type\": \"scatter\", \"x\": [\"2021-06-22 0:19:10\", \"2021-06-22 0:19:52\", \"2021-06-22 0:15:27\", \"2021-06-22 0:17:00\", \"2021-06-22 0:04:27\", \"2021-06-22 0:06:02\", \"2021-06-22 0:22:43\", \"2021-06-22 0:24:19\", \"2021-06-22 0:03:22\", \"2021-06-22 0:03:58\", \"2021-06-22 0:12:43\", \"2021-06-22 0:13:59\", \"2021-06-22 0:01:41\", \"2021-06-22 0:02:02\", \"2021-06-22 0:00:00\", \"2021-06-22 0:01:18\", \"2021-06-22 0:01:18\", \"2021-06-22 0:01:41\", \"2021-06-22 0:03:58\", \"2021-06-22 0:04:27\", \"2021-06-22 0:02:22\", \"2021-06-22 0:03:22\", \"2021-06-22 0:18:18\", \"2021-06-22 0:19:10\", \"2021-06-22 0:10:28\", \"2021-06-22 0:11:47\", \"2021-06-22 0:17:00\", \"2021-06-22 0:17:42\", \"2021-06-22 0:08:49\", \"2021-06-22 0:10:28\"], \"y\": [14, 14, 13, 13, 12, 12, 11, 11, 10, 10, 9, 9, 8, 8, 7, 7, 6, 6, 5, 5, 4, 4, 3, 3, 2, 2, 1, 1, 0, 0]}, {\"legendgroup\": \"rgb(124, 57, 51)\", \"marker\": {\"color\": \"rgb(124, 57, 51)\", \"opacity\": 0, \"size\": 1}, \"mode\": \"markers\", \"name\": \"\", \"showlegend\": false, \"text\": [null, null, null, null, null, null, null, null, null, null, null, null, null, null, null, null, null, null, null, null, null, null, null, null, null, null, null, null, null, null], \"type\": \"scatter\", \"x\": [\"2021-06-22 0:22:01\", \"2021-06-22 0:23:11\", \"2021-06-22 0:23:41\", \"2021-06-22 0:25:04\", \"2021-06-22 0:06:02\", \"2021-06-22 0:06:17\", \"2021-06-22 0:03:47\", \"2021-06-22 0:04:13\", \"2021-06-22 0:02:44\", \"2021-06-22 0:02:54\", \"2021-06-22 0:20:25\", \"2021-06-22 0:22:01\", \"2021-06-22 0:00:00\", \"2021-06-22 0:01:34\", \"2021-06-22 0:02:54\", \"2021-06-22 0:03:47\", \"2021-06-22 0:15:47\", \"2021-06-22 0:15:57\", \"2021-06-22 0:17:20\", \"2021-06-22 0:18:53\", \"2021-06-22 0:10:37\", \"2021-06-22 0:11:42\", \"2021-06-22 0:14:25\", \"2021-06-22 0:15:47\", \"2021-06-22 0:01:34\", \"2021-06-22 0:02:40\", \"2021-06-22 0:18:53\", \"2021-06-22 0:20:25\", \"2021-06-22 0:16:07\", \"2021-06-22 0:16:34\"], \"y\": [14, 14, 13, 13, 12, 12, 11, 11, 10, 10, 9, 9, 8, 8, 7, 7, 6, 6, 5, 5, 4, 4, 3, 3, 2, 2, 1, 1, 0, 0]}, {\"legendgroup\": \"rgb(135, 61, 210)\", \"marker\": {\"color\": \"rgb(135, 61, 210)\", \"opacity\": 0, \"size\": 1}, \"mode\": \"markers\", \"name\": \"\", \"showlegend\": false, \"text\": [null, null, null, null, null, null, null, null, null, null, null, null, null, null, null, null, null, null, null, null, null, null, null, null, null, null, null, null, null, null], \"type\": \"scatter\", \"x\": [\"2021-06-22 0:24:21\", \"2021-06-22 0:24:56\", \"2021-06-22 0:14:31\", \"2021-06-22 0:15:27\", \"2021-06-22 0:24:14\", \"2021-06-22 0:24:21\", \"2021-06-22 0:21:28\", \"2021-06-22 0:21:44\", \"2021-06-22 0:03:58\", \"2021-06-22 0:04:49\", \"2021-06-22 0:09:32\", \"2021-06-22 0:09:49\", \"2021-06-22 0:12:01\", \"2021-06-22 0:13:30\", \"2021-06-22 0:17:43\", \"2021-06-22 0:18:01\", \"2021-06-22 0:00:00\", \"2021-06-22 0:00:28\", \"2021-06-22 0:13:30\", \"2021-06-22 0:14:29\", \"2021-06-22 0:18:52\", \"2021-06-22 0:19:22\", \"2021-06-22 0:18:01\", \"2021-06-22 0:18:18\", \"2021-06-22 0:16:40\", \"2021-06-22 0:17:43\", \"2021-06-22 0:06:34\", \"2021-06-22 0:07:49\", \"2021-06-22 0:01:30\", \"2021-06-22 0:01:51\"], \"y\": [14, 14, 13, 13, 12, 12, 11, 11, 10, 10, 9, 9, 8, 8, 7, 7, 6, 6, 5, 5, 4, 4, 3, 3, 2, 2, 1, 1, 0, 0]}, {\"legendgroup\": \"rgb(156, 70, 136)\", \"marker\": {\"color\": \"rgb(156, 70, 136)\", \"opacity\": 0, \"size\": 1}, \"mode\": \"markers\", \"name\": \"\", \"showlegend\": false, \"text\": [null, null, null, null, null, null, null, null, null, null, null, null, null, null, null, null, null, null, null, null, null, null, null, null, null, null, null, null, null, null], \"type\": \"scatter\", \"x\": [\"2021-06-22 0:19:52\", \"2021-06-22 0:20:29\", \"2021-06-22 0:06:06\", \"2021-06-22 0:06:25\", \"2021-06-22 0:13:43\", \"2021-06-22 0:14:26\", \"2021-06-22 0:00:18\", \"2021-06-22 0:01:33\", \"2021-06-22 0:07:19\", \"2021-06-22 0:08:44\", \"2021-06-22 0:09:49\", \"2021-06-22 0:11:02\", \"2021-06-22 0:04:58\", \"2021-06-22 0:06:06\", \"2021-06-22 0:01:33\", \"2021-06-22 0:01:53\", \"2021-06-22 0:01:53\", \"2021-06-22 0:01:57\", \"2021-06-22 0:23:44\", \"2021-06-22 0:24:50\", \"2021-06-22 0:14:49\", \"2021-06-22 0:15:13\", \"2021-06-22 0:06:25\", \"2021-06-22 0:07:19\", \"2021-06-22 0:00:00\", \"2021-06-22 0:00:18\", \"2021-06-22 0:22:17\", \"2021-06-22 0:23:44\", \"2021-06-22 0:01:57\", \"2021-06-22 0:03:28\"], \"y\": [14, 14, 13, 13, 12, 12, 11, 11, 10, 10, 9, 9, 8, 8, 7, 7, 6, 6, 5, 5, 4, 4, 3, 3, 2, 2, 1, 1, 0, 0]}, {\"legendgroup\": \"rgb(161, 252, 186)\", \"marker\": {\"color\": \"rgb(161, 252, 186)\", \"opacity\": 0, \"size\": 1}, \"mode\": \"markers\", \"name\": \"\", \"showlegend\": false, \"text\": [null, null, null, null, null, null, null, null, null, null, null, null, null, null, null, null, null, null, null, null, null, null, null, null, null, null, null, null, null, null], \"type\": \"scatter\", \"x\": [\"2021-06-22 0:07:58\", \"2021-06-22 0:08:15\", \"2021-06-22 0:17:00\", \"2021-06-22 0:18:09\", \"2021-06-22 0:06:17\", \"2021-06-22 0:07:17\", \"2021-06-22 0:11:28\", \"2021-06-22 0:12:57\", \"2021-06-22 0:20:23\", \"2021-06-22 0:20:29\", \"2021-06-22 0:22:01\", \"2021-06-22 0:22:14\", \"2021-06-22 0:01:34\", \"2021-06-22 0:01:39\", \"2021-06-22 0:14:49\", \"2021-06-22 0:16:17\", \"2021-06-22 0:07:17\", \"2021-06-22 0:07:58\", \"2021-06-22 0:05:07\", \"2021-06-22 0:05:37\", \"2021-06-22 0:13:31\", \"2021-06-22 0:14:49\", \"2021-06-22 0:02:52\", \"2021-06-22 0:03:51\", \"2021-06-22 0:18:09\", \"2021-06-22 0:18:54\", \"2021-06-22 0:08:15\", \"2021-06-22 0:09:21\", \"2021-06-22 0:18:54\", \"2021-06-22 0:20:16\"], \"y\": [14, 14, 13, 13, 12, 12, 11, 11, 10, 10, 9, 9, 8, 8, 7, 7, 6, 6, 5, 5, 4, 4, 3, 3, 2, 2, 1, 1, 0, 0]}, {\"legendgroup\": \"rgb(180, 157, 218)\", \"marker\": {\"color\": \"rgb(180, 157, 218)\", \"opacity\": 0, \"size\": 1}, \"mode\": \"markers\", \"name\": \"\", \"showlegend\": false, \"text\": [null, null, null, null, null, null, null, null, null, null, null, null, null, null, null, null, null, null, null, null, null, null, null, null, null, null, null, null, null, null], \"type\": \"scatter\", \"x\": [\"2021-06-22 0:01:30\", \"2021-06-22 0:02:45\", \"2021-06-22 0:13:46\", \"2021-06-22 0:14:31\", \"2021-06-22 0:00:00\", \"2021-06-22 0:00:47\", \"2021-06-22 0:14:50\", \"2021-06-22 0:15:57\", \"2021-06-22 0:18:56\", \"2021-06-22 0:20:23\", \"2021-06-22 0:08:58\", \"2021-06-22 0:09:32\", \"2021-06-22 0:06:40\", \"2021-06-22 0:07:31\", \"2021-06-22 0:07:34\", \"2021-06-22 0:08:58\", \"2021-06-22 0:10:36\", \"2021-06-22 0:11:04\", \"2021-06-22 0:11:04\", \"2021-06-22 0:12:04\", \"2021-06-22 0:07:31\", \"2021-06-22 0:07:34\", \"2021-06-22 0:16:12\", \"2021-06-22 0:17:10\", \"2021-06-22 0:04:50\", \"2021-06-22 0:04:58\", \"2021-06-22 0:12:37\", \"2021-06-22 0:13:46\", \"2021-06-22 0:00:47\", \"2021-06-22 0:01:30\"], \"y\": [14, 14, 13, 13, 12, 12, 11, 11, 10, 10, 9, 9, 8, 8, 7, 7, 6, 6, 5, 5, 4, 4, 3, 3, 2, 2, 1, 1, 0, 0]}, {\"legendgroup\": \"rgb(205, 2, 246)\", \"marker\": {\"color\": \"rgb(205, 2, 246)\", \"opacity\": 0, \"size\": 1}, \"mode\": \"markers\", \"name\": \"\", \"showlegend\": false, \"text\": [null, null, null, null, null, null, null, null, null, null, null, null, null, null, null, null, null, null, null, null, null, null, null, null, null, null, null, null, null, null], \"type\": \"scatter\", \"x\": [\"2021-06-22 0:16:15\", \"2021-06-22 0:16:23\", \"2021-06-22 0:12:41\", \"2021-06-22 0:13:07\", \"2021-06-22 0:21:28\", \"2021-06-22 0:22:51\", \"2021-06-22 0:20:01\", \"2021-06-22 0:21:28\", \"2021-06-22 0:11:52\", \"2021-06-22 0:12:29\", \"2021-06-22 0:23:11\", \"2021-06-22 0:24:48\", \"2021-06-22 0:06:06\", \"2021-06-22 0:06:40\", \"2021-06-22 0:19:23\", \"2021-06-22 0:19:35\", \"2021-06-22 0:03:19\", \"2021-06-22 0:03:35\", \"2021-06-22 0:22:51\", \"2021-06-22 0:23:11\", \"2021-06-22 0:00:00\", \"2021-06-22 0:00:57\", \"2021-06-22 0:16:07\", \"2021-06-22 0:16:12\", \"2021-06-22 0:04:08\", \"2021-06-22 0:04:50\", \"2021-06-22 0:13:46\", \"2021-06-22 0:14:54\", \"2021-06-22 0:14:54\", \"2021-06-22 0:16:07\"], \"y\": [14, 14, 13, 13, 12, 12, 11, 11, 10, 10, 9, 9, 8, 8, 7, 7, 6, 6, 5, 5, 4, 4, 3, 3, 2, 2, 1, 1, 0, 0]}, {\"legendgroup\": \"rgb(216, 55, 171)\", \"marker\": {\"color\": \"rgb(216, 55, 171)\", \"opacity\": 0, \"size\": 1}, \"mode\": \"markers\", \"name\": \"\", \"showlegend\": false, \"text\": [null, null, null, null, null, null, null, null, null, null, null, null, null, null, null, null, null, null, null, null, null, null, null, null, null, null, null, null, null, null], \"type\": \"scatter\", \"x\": [\"2021-06-22 0:18:52\", \"2021-06-22 0:19:10\", \"2021-06-22 0:22:02\", \"2021-06-22 0:23:41\", \"2021-06-22 0:23:41\", \"2021-06-22 0:24:14\", \"2021-06-22 0:19:10\", \"2021-06-22 0:20:01\", \"2021-06-22 0:01:30\", \"2021-06-22 0:02:44\", \"2021-06-22 0:03:39\", \"2021-06-22 0:04:10\", \"2021-06-22 0:16:02\", \"2021-06-22 0:17:33\", \"2021-06-22 0:04:37\", \"2021-06-22 0:06:05\", \"2021-06-22 0:13:23\", \"2021-06-22 0:14:41\", \"2021-06-22 0:15:55\", \"2021-06-22 0:16:02\", \"2021-06-22 0:17:33\", \"2021-06-22 0:18:52\", \"2021-06-22 0:15:47\", \"2021-06-22 0:15:55\", \"2021-06-22 0:20:24\", \"2021-06-22 0:20:42\", \"2021-06-22 0:11:19\", \"2021-06-22 0:12:16\", \"2021-06-22 0:10:28\", \"2021-06-22 0:11:19\"], \"y\": [14, 14, 13, 13, 12, 12, 11, 11, 10, 10, 9, 9, 8, 8, 7, 7, 6, 6, 5, 5, 4, 4, 3, 3, 2, 2, 1, 1, 0, 0]}, {\"legendgroup\": \"rgb(223, 23, 105)\", \"marker\": {\"color\": \"rgb(223, 23, 105)\", \"opacity\": 0, \"size\": 1}, \"mode\": \"markers\", \"name\": \"\", \"showlegend\": false, \"text\": [null, null, null, null, null, null, null, null, null, null, null, null, null, null, null, null, null, null, null, null, null, null, null, null, null, null, null, null, null, null], \"type\": \"scatter\", \"x\": [\"2021-06-22 0:12:37\", \"2021-06-22 0:13:54\", \"2021-06-22 0:19:42\", \"2021-06-22 0:20:30\", \"2021-06-22 0:10:37\", \"2021-06-22 0:10:57\", \"2021-06-22 0:10:57\", \"2021-06-22 0:11:28\", \"2021-06-22 0:17:36\", \"2021-06-22 0:18:56\", \"2021-06-22 0:00:00\", \"2021-06-22 0:01:05\", \"2021-06-22 0:11:28\", \"2021-06-22 0:12:01\", \"2021-06-22 0:23:15\", \"2021-06-22 0:24:51\", \"2021-06-22 0:07:58\", \"2021-06-22 0:09:00\", \"2021-06-22 0:12:04\", \"2021-06-22 0:12:37\", \"2021-06-22 0:09:00\", \"2021-06-22 0:10:37\", \"2021-06-22 0:20:30\", \"2021-06-22 0:22:00\", \"2021-06-22 0:22:00\", \"2021-06-22 0:23:15\", \"2021-06-22 0:14:54\", \"2021-06-22 0:15:44\", \"2021-06-22 0:24:51\", \"2021-06-22 0:25:35\"], \"y\": [14, 14, 13, 13, 12, 12, 11, 11, 10, 10, 9, 9, 8, 8, 7, 7, 6, 6, 5, 5, 4, 4, 3, 3, 2, 2, 1, 1, 0, 0]}, {\"legendgroup\": \"rgb(254, 122, 105)\", \"marker\": {\"color\": \"rgb(254, 122, 105)\", \"opacity\": 0, \"size\": 1}, \"mode\": \"markers\", \"name\": \"\", \"showlegend\": false, \"text\": [null, null, null, null, null, null, null, null, null, null, null, null, null, null, null, null, null, null, null, null, null, null, null, null, null, null, null, null, null, null], \"type\": \"scatter\", \"x\": [\"2021-06-22 0:14:48\", \"2021-06-22 0:16:15\", \"2021-06-22 0:12:15\", \"2021-06-22 0:12:41\", \"2021-06-22 0:10:57\", \"2021-06-22 0:12:15\", \"2021-06-22 0:01:34\", \"2021-06-22 0:02:35\", \"2021-06-22 0:05:34\", \"2021-06-22 0:06:05\", \"2021-06-22 0:01:05\", \"2021-06-22 0:01:34\", \"2021-06-22 0:17:33\", \"2021-06-22 0:17:47\", \"2021-06-22 0:08:58\", \"2021-06-22 0:10:21\", \"2021-06-22 0:19:57\", \"2021-06-22 0:20:27\", \"2021-06-22 0:16:15\", \"2021-06-22 0:17:17\", \"2021-06-22 0:12:41\", \"2021-06-22 0:13:31\", \"2021-06-22 0:05:18\", \"2021-06-22 0:05:34\", \"2021-06-22 0:02:40\", \"2021-06-22 0:04:08\", \"2021-06-22 0:04:08\", \"2021-06-22 0:05:18\", \"2021-06-22 0:06:05\", \"2021-06-22 0:07:10\"], \"y\": [14, 14, 13, 13, 12, 12, 11, 11, 10, 10, 9, 9, 8, 8, 7, 7, 6, 6, 5, 5, 4, 4, 3, 3, 2, 2, 1, 1, 0, 0]}, {\"legendgroup\": \"rgb(31, 91, 179)\", \"marker\": {\"color\": \"rgb(31, 91, 179)\", \"opacity\": 0, \"size\": 1}, \"mode\": \"markers\", \"name\": \"\", \"showlegend\": false, \"text\": [null, null, null, null, null, null, null, null, null, null, null, null, null, null, null, null, null, null, null, null, null, null, null, null, null, null, null, null, null, null], \"type\": \"scatter\", \"x\": [\"2021-06-22 0:03:39\", \"2021-06-22 0:03:48\", \"2021-06-22 0:08:49\", \"2021-06-22 0:09:51\", \"2021-06-22 0:12:15\", \"2021-06-22 0:12:21\", \"2021-06-22 0:13:30\", \"2021-06-22 0:14:50\", \"2021-06-22 0:13:23\", \"2021-06-22 0:13:30\", \"2021-06-22 0:02:47\", \"2021-06-22 0:03:39\", \"2021-06-22 0:17:47\", \"2021-06-22 0:18:44\", \"2021-06-22 0:03:48\", \"2021-06-22 0:04:37\", \"2021-06-22 0:12:21\", \"2021-06-22 0:13:23\", \"2021-06-22 0:17:17\", \"2021-06-22 0:17:20\", \"2021-06-22 0:19:43\", \"2021-06-22 0:19:50\", \"2021-06-22 0:00:00\", \"2021-06-22 0:00:32\", \"2021-06-22 0:04:58\", \"2021-06-22 0:05:59\", \"2021-06-22 0:05:59\", \"2021-06-22 0:06:34\", \"2021-06-22 0:07:10\", \"2021-06-22 0:08:49\"], \"y\": [14, 14, 13, 13, 12, 12, 11, 11, 10, 10, 9, 9, 8, 8, 7, 7, 6, 6, 5, 5, 4, 4, 3, 3, 2, 2, 1, 1, 0, 0]}, {\"legendgroup\": \"rgb(76, 88, 228)\", \"marker\": {\"color\": \"rgb(76, 88, 228)\", \"opacity\": 0, \"size\": 1}, \"mode\": \"markers\", \"name\": \"\", \"showlegend\": false, \"text\": [null, null, null, null, null, null, null, null, null, null, null, null, null, null, null, null, null, null, null, null, null, null, null, null, null, null, null, null, null, null], \"type\": \"scatter\", \"x\": [\"2021-06-22 0:05:51\", \"2021-06-22 0:07:25\", \"2021-06-22 0:20:30\", \"2021-06-22 0:22:02\", \"2021-06-22 0:02:47\", \"2021-06-22 0:03:10\", \"2021-06-22 0:22:34\", \"2021-06-22 0:22:43\", \"2021-06-22 0:10:19\", \"2021-06-22 0:11:52\", \"2021-06-22 0:01:34\", \"2021-06-22 0:02:47\", \"2021-06-22 0:04:28\", \"2021-06-22 0:04:58\", \"2021-06-22 0:11:52\", \"2021-06-22 0:12:24\", \"2021-06-22 0:19:01\", \"2021-06-22 0:19:57\", \"2021-06-22 0:03:10\", \"2021-06-22 0:03:40\", \"2021-06-22 0:04:58\", \"2021-06-22 0:05:51\", \"2021-06-22 0:13:55\", \"2021-06-22 0:14:25\", \"2021-06-22 0:19:57\", \"2021-06-22 0:20:24\", \"2021-06-22 0:09:21\", \"2021-06-22 0:10:19\", \"2021-06-22 0:12:24\", \"2021-06-22 0:13:55\"], \"y\": [14, 14, 13, 13, 12, 12, 11, 11, 10, 10, 9, 9, 8, 8, 7, 7, 6, 6, 5, 5, 4, 4, 3, 3, 2, 2, 1, 1, 0, 0]}, {\"legendgroup\": \"rgb(82, 38, 245)\", \"marker\": {\"color\": \"rgb(82, 38, 245)\", \"opacity\": 0, \"size\": 1}, \"mode\": \"markers\", \"name\": \"\", \"showlegend\": false, \"text\": [null, null, null, null, null, null, null, null, null, null, null, null, null, null, null, null, null, null, null, null, null, null, null, null, null, null, null, null, null, null], \"type\": \"scatter\", \"x\": [\"2021-06-22 0:05:19\", \"2021-06-22 0:05:27\", \"2021-06-22 0:18:09\", \"2021-06-22 0:19:42\", \"2021-06-22 0:24:21\", \"2021-06-22 0:25:34\", \"2021-06-22 0:15:57\", \"2021-06-22 0:17:27\", \"2021-06-22 0:00:00\", \"2021-06-22 0:01:30\", \"2021-06-22 0:05:27\", \"2021-06-22 0:06:58\", \"2021-06-22 0:08:18\", \"2021-06-22 0:09:47\", \"2021-06-22 0:01:53\", \"2021-06-22 0:02:20\", \"2021-06-22 0:09:47\", \"2021-06-22 0:10:36\", \"2021-06-22 0:20:49\", \"2021-06-22 0:21:24\", \"2021-06-22 0:11:51\", \"2021-06-22 0:12:19\", \"2021-06-22 0:19:42\", \"2021-06-22 0:19:48\", \"2021-06-22 0:06:58\", \"2021-06-22 0:08:18\", \"2021-06-22 0:05:18\", \"2021-06-22 0:05:19\", \"2021-06-22 0:11:19\", \"2021-06-22 0:11:51\"], \"y\": [14, 14, 13, 13, 12, 12, 11, 11, 10, 10, 9, 9, 8, 8, 7, 7, 6, 6, 5, 5, 4, 4, 3, 3, 2, 2, 1, 1, 0, 0]}, {\"legendgroup\": \"rgb(96, 201, 208)\", \"marker\": {\"color\": \"rgb(96, 201, 208)\", \"opacity\": 0, \"size\": 1}, \"mode\": \"markers\", \"name\": \"\", \"showlegend\": false, \"text\": [null, null, null, null, null, null, null, null, null, null, null, null, null, null, null, null, null, null, null, null, null, null, null, null, null, null, null, null, null, null], \"type\": \"scatter\", \"x\": [\"2021-06-22 0:07:25\", \"2021-06-22 0:07:38\", \"2021-06-22 0:09:51\", \"2021-06-22 0:11:18\", \"2021-06-22 0:12:21\", \"2021-06-22 0:13:43\", \"2021-06-22 0:22:19\", \"2021-06-22 0:22:34\", \"2021-06-22 0:16:40\", \"2021-06-22 0:17:36\", \"2021-06-22 0:13:59\", \"2021-06-22 0:15:22\", \"2021-06-22 0:02:52\", \"2021-06-22 0:04:28\", \"2021-06-22 0:19:35\", \"2021-06-22 0:19:43\", \"2021-06-22 0:17:36\", \"2021-06-22 0:19:01\", \"2021-06-22 0:19:43\", \"2021-06-22 0:20:49\", \"2021-06-22 0:00:57\", \"2021-06-22 0:02:22\", \"2021-06-22 0:02:22\", \"2021-06-22 0:02:52\", \"2021-06-22 0:15:22\", \"2021-06-22 0:16:40\", \"2021-06-22 0:20:49\", \"2021-06-22 0:22:17\", \"2021-06-22 0:04:28\", \"2021-06-22 0:05:59\"], \"y\": [14, 14, 13, 13, 12, 12, 11, 11, 10, 10, 9, 9, 8, 8, 7, 7, 6, 6, 5, 5, 4, 4, 3, 3, 2, 2, 1, 1, 0, 0]}],\n",
              "                        {\"height\": 600, \"hovermode\": \"closest\", \"showlegend\": true, \"template\": {\"data\": {\"bar\": [{\"error_x\": {\"color\": \"#2a3f5f\"}, \"error_y\": {\"color\": \"#2a3f5f\"}, \"marker\": {\"line\": {\"color\": \"#E5ECF6\", \"width\": 0.5}}, \"type\": \"bar\"}], \"barpolar\": [{\"marker\": {\"line\": {\"color\": \"#E5ECF6\", \"width\": 0.5}}, \"type\": \"barpolar\"}], \"carpet\": [{\"aaxis\": {\"endlinecolor\": \"#2a3f5f\", \"gridcolor\": \"white\", \"linecolor\": \"white\", \"minorgridcolor\": \"white\", \"startlinecolor\": \"#2a3f5f\"}, \"baxis\": {\"endlinecolor\": \"#2a3f5f\", \"gridcolor\": \"white\", \"linecolor\": \"white\", \"minorgridcolor\": \"white\", \"startlinecolor\": \"#2a3f5f\"}, \"type\": \"carpet\"}], \"choropleth\": [{\"colorbar\": {\"outlinewidth\": 0, \"ticks\": \"\"}, \"type\": \"choropleth\"}], \"contour\": [{\"colorbar\": {\"outlinewidth\": 0, \"ticks\": \"\"}, \"colorscale\": [[0.0, \"#0d0887\"], [0.1111111111111111, \"#46039f\"], [0.2222222222222222, \"#7201a8\"], [0.3333333333333333, \"#9c179e\"], [0.4444444444444444, \"#bd3786\"], [0.5555555555555556, \"#d8576b\"], [0.6666666666666666, \"#ed7953\"], [0.7777777777777778, \"#fb9f3a\"], [0.8888888888888888, \"#fdca26\"], [1.0, \"#f0f921\"]], \"type\": \"contour\"}], \"contourcarpet\": [{\"colorbar\": {\"outlinewidth\": 0, \"ticks\": \"\"}, \"type\": \"contourcarpet\"}], \"heatmap\": [{\"colorbar\": {\"outlinewidth\": 0, \"ticks\": \"\"}, \"colorscale\": [[0.0, \"#0d0887\"], [0.1111111111111111, \"#46039f\"], [0.2222222222222222, \"#7201a8\"], [0.3333333333333333, \"#9c179e\"], [0.4444444444444444, \"#bd3786\"], [0.5555555555555556, \"#d8576b\"], [0.6666666666666666, \"#ed7953\"], [0.7777777777777778, \"#fb9f3a\"], [0.8888888888888888, \"#fdca26\"], [1.0, \"#f0f921\"]], \"type\": \"heatmap\"}], \"heatmapgl\": [{\"colorbar\": {\"outlinewidth\": 0, \"ticks\": \"\"}, \"colorscale\": [[0.0, \"#0d0887\"], [0.1111111111111111, \"#46039f\"], [0.2222222222222222, \"#7201a8\"], [0.3333333333333333, \"#9c179e\"], [0.4444444444444444, \"#bd3786\"], [0.5555555555555556, \"#d8576b\"], [0.6666666666666666, \"#ed7953\"], [0.7777777777777778, \"#fb9f3a\"], [0.8888888888888888, \"#fdca26\"], [1.0, \"#f0f921\"]], \"type\": \"heatmapgl\"}], \"histogram\": [{\"marker\": {\"colorbar\": {\"outlinewidth\": 0, \"ticks\": \"\"}}, \"type\": \"histogram\"}], \"histogram2d\": [{\"colorbar\": {\"outlinewidth\": 0, \"ticks\": \"\"}, \"colorscale\": [[0.0, \"#0d0887\"], [0.1111111111111111, \"#46039f\"], [0.2222222222222222, \"#7201a8\"], [0.3333333333333333, \"#9c179e\"], [0.4444444444444444, \"#bd3786\"], [0.5555555555555556, \"#d8576b\"], [0.6666666666666666, \"#ed7953\"], [0.7777777777777778, \"#fb9f3a\"], [0.8888888888888888, \"#fdca26\"], [1.0, \"#f0f921\"]], \"type\": \"histogram2d\"}], \"histogram2dcontour\": [{\"colorbar\": {\"outlinewidth\": 0, \"ticks\": \"\"}, \"colorscale\": [[0.0, \"#0d0887\"], [0.1111111111111111, \"#46039f\"], [0.2222222222222222, \"#7201a8\"], [0.3333333333333333, \"#9c179e\"], [0.4444444444444444, \"#bd3786\"], [0.5555555555555556, \"#d8576b\"], [0.6666666666666666, \"#ed7953\"], [0.7777777777777778, \"#fb9f3a\"], [0.8888888888888888, \"#fdca26\"], [1.0, \"#f0f921\"]], \"type\": \"histogram2dcontour\"}], \"mesh3d\": [{\"colorbar\": {\"outlinewidth\": 0, \"ticks\": \"\"}, \"type\": \"mesh3d\"}], \"parcoords\": [{\"line\": {\"colorbar\": {\"outlinewidth\": 0, \"ticks\": \"\"}}, \"type\": \"parcoords\"}], \"pie\": [{\"automargin\": true, \"type\": \"pie\"}], \"scatter\": [{\"marker\": {\"colorbar\": {\"outlinewidth\": 0, \"ticks\": \"\"}}, \"type\": \"scatter\"}], \"scatter3d\": [{\"line\": {\"colorbar\": {\"outlinewidth\": 0, \"ticks\": \"\"}}, \"marker\": {\"colorbar\": {\"outlinewidth\": 0, \"ticks\": \"\"}}, \"type\": \"scatter3d\"}], \"scattercarpet\": [{\"marker\": {\"colorbar\": {\"outlinewidth\": 0, \"ticks\": \"\"}}, \"type\": \"scattercarpet\"}], \"scattergeo\": [{\"marker\": {\"colorbar\": {\"outlinewidth\": 0, \"ticks\": \"\"}}, \"type\": \"scattergeo\"}], \"scattergl\": [{\"marker\": {\"colorbar\": {\"outlinewidth\": 0, \"ticks\": \"\"}}, \"type\": \"scattergl\"}], \"scattermapbox\": [{\"marker\": {\"colorbar\": {\"outlinewidth\": 0, \"ticks\": \"\"}}, \"type\": \"scattermapbox\"}], \"scatterpolar\": [{\"marker\": {\"colorbar\": {\"outlinewidth\": 0, \"ticks\": \"\"}}, \"type\": \"scatterpolar\"}], \"scatterpolargl\": [{\"marker\": {\"colorbar\": {\"outlinewidth\": 0, \"ticks\": \"\"}}, \"type\": \"scatterpolargl\"}], \"scatterternary\": [{\"marker\": {\"colorbar\": {\"outlinewidth\": 0, \"ticks\": \"\"}}, \"type\": \"scatterternary\"}], \"surface\": [{\"colorbar\": {\"outlinewidth\": 0, \"ticks\": \"\"}, \"colorscale\": [[0.0, \"#0d0887\"], [0.1111111111111111, \"#46039f\"], [0.2222222222222222, \"#7201a8\"], [0.3333333333333333, \"#9c179e\"], [0.4444444444444444, \"#bd3786\"], [0.5555555555555556, \"#d8576b\"], [0.6666666666666666, \"#ed7953\"], [0.7777777777777778, \"#fb9f3a\"], [0.8888888888888888, \"#fdca26\"], [1.0, \"#f0f921\"]], \"type\": \"surface\"}], \"table\": [{\"cells\": {\"fill\": {\"color\": \"#EBF0F8\"}, \"line\": {\"color\": \"white\"}}, \"header\": {\"fill\": {\"color\": \"#C8D4E3\"}, \"line\": {\"color\": \"white\"}}, \"type\": \"table\"}]}, \"layout\": {\"annotationdefaults\": {\"arrowcolor\": \"#2a3f5f\", \"arrowhead\": 0, \"arrowwidth\": 1}, \"coloraxis\": {\"colorbar\": {\"outlinewidth\": 0, \"ticks\": \"\"}}, \"colorscale\": {\"diverging\": [[0, \"#8e0152\"], [0.1, \"#c51b7d\"], [0.2, \"#de77ae\"], [0.3, \"#f1b6da\"], [0.4, \"#fde0ef\"], [0.5, \"#f7f7f7\"], [0.6, \"#e6f5d0\"], [0.7, \"#b8e186\"], [0.8, \"#7fbc41\"], [0.9, \"#4d9221\"], [1, \"#276419\"]], \"sequential\": [[0.0, \"#0d0887\"], [0.1111111111111111, \"#46039f\"], [0.2222222222222222, \"#7201a8\"], [0.3333333333333333, \"#9c179e\"], [0.4444444444444444, \"#bd3786\"], [0.5555555555555556, \"#d8576b\"], [0.6666666666666666, \"#ed7953\"], [0.7777777777777778, \"#fb9f3a\"], [0.8888888888888888, \"#fdca26\"], [1.0, \"#f0f921\"]], \"sequentialminus\": [[0.0, \"#0d0887\"], [0.1111111111111111, \"#46039f\"], [0.2222222222222222, \"#7201a8\"], [0.3333333333333333, \"#9c179e\"], [0.4444444444444444, \"#bd3786\"], [0.5555555555555556, \"#d8576b\"], [0.6666666666666666, \"#ed7953\"], [0.7777777777777778, \"#fb9f3a\"], [0.8888888888888888, \"#fdca26\"], [1.0, \"#f0f921\"]]}, \"colorway\": [\"#636efa\", \"#EF553B\", \"#00cc96\", \"#ab63fa\", \"#FFA15A\", \"#19d3f3\", \"#FF6692\", \"#B6E880\", \"#FF97FF\", \"#FECB52\"], \"font\": {\"color\": \"#2a3f5f\"}, \"geo\": {\"bgcolor\": \"white\", \"lakecolor\": \"white\", \"landcolor\": \"#E5ECF6\", \"showlakes\": true, \"showland\": true, \"subunitcolor\": \"white\"}, \"hoverlabel\": {\"align\": \"left\"}, \"hovermode\": \"closest\", \"mapbox\": {\"style\": \"light\"}, \"paper_bgcolor\": \"white\", \"plot_bgcolor\": \"#E5ECF6\", \"polar\": {\"angularaxis\": {\"gridcolor\": \"white\", \"linecolor\": \"white\", \"ticks\": \"\"}, \"bgcolor\": \"#E5ECF6\", \"radialaxis\": {\"gridcolor\": \"white\", \"linecolor\": \"white\", \"ticks\": \"\"}}, \"scene\": {\"xaxis\": {\"backgroundcolor\": \"#E5ECF6\", \"gridcolor\": \"white\", \"gridwidth\": 2, \"linecolor\": \"white\", \"showbackground\": true, \"ticks\": \"\", \"zerolinecolor\": \"white\"}, \"yaxis\": {\"backgroundcolor\": \"#E5ECF6\", \"gridcolor\": \"white\", \"gridwidth\": 2, \"linecolor\": \"white\", \"showbackground\": true, \"ticks\": \"\", \"zerolinecolor\": \"white\"}, \"zaxis\": {\"backgroundcolor\": \"#E5ECF6\", \"gridcolor\": \"white\", \"gridwidth\": 2, \"linecolor\": \"white\", \"showbackground\": true, \"ticks\": \"\", \"zerolinecolor\": \"white\"}}, \"shapedefaults\": {\"line\": {\"color\": \"#2a3f5f\"}}, \"ternary\": {\"aaxis\": {\"gridcolor\": \"white\", \"linecolor\": \"white\", \"ticks\": \"\"}, \"baxis\": {\"gridcolor\": \"white\", \"linecolor\": \"white\", \"ticks\": \"\"}, \"bgcolor\": \"#E5ECF6\", \"caxis\": {\"gridcolor\": \"white\", \"linecolor\": \"white\", \"ticks\": \"\"}}, \"title\": {\"x\": 0.05}, \"xaxis\": {\"automargin\": true, \"gridcolor\": \"white\", \"linecolor\": \"white\", \"ticks\": \"\", \"title\": {\"standoff\": 15}, \"zerolinecolor\": \"white\", \"zerolinewidth\": 2}, \"yaxis\": {\"automargin\": true, \"gridcolor\": \"white\", \"linecolor\": \"white\", \"ticks\": \"\", \"title\": {\"standoff\": 15}, \"zerolinecolor\": \"white\", \"zerolinewidth\": 2}}}, \"title\": {\"text\": \"Job shop Schedule\"}, \"xaxis\": {\"rangeselector\": {\"buttons\": [{\"count\": 7, \"label\": \"1w\", \"step\": \"day\", \"stepmode\": \"backward\"}, {\"count\": 1, \"label\": \"1m\", \"step\": \"month\", \"stepmode\": \"backward\"}, {\"count\": 6, \"label\": \"6m\", \"step\": \"month\", \"stepmode\": \"backward\"}, {\"count\": 1, \"label\": \"YTD\", \"step\": \"year\", \"stepmode\": \"todate\"}, {\"count\": 1, \"label\": \"1y\", \"step\": \"year\", \"stepmode\": \"backward\"}, {\"step\": \"all\"}]}, \"showgrid\": true, \"type\": \"date\", \"zeroline\": false}, \"yaxis\": {\"autorange\": false, \"range\": [-1, 16], \"showgrid\": false, \"ticktext\": [\"Mesin 15\", \"Mesin 14\", \"Mesin 13\", \"Mesin 12\", \"Mesin 11\", \"Mesin 10\", \"Mesin 9\", \"Mesin 8\", \"Mesin 7\", \"Mesin 6\", \"Mesin 5\", \"Mesin 4\", \"Mesin 3\", \"Mesin 2\", \"Mesin 1\"], \"tickvals\": [0, 1, 2, 3, 4, 5, 6, 7, 8, 9, 10, 11, 12, 13, 14], \"zeroline\": false}},\n",
              "                        {\"responsive\": true}\n",
              "                    ).then(function(){\n",
              "                            \n",
              "var gd = document.getElementById('bde67bc6-2862-48ff-a156-923dac26ccab');\n",
              "var x = new MutationObserver(function (mutations, observer) {{\n",
              "        var display = window.getComputedStyle(gd).display;\n",
              "        if (!display || display === 'none') {{\n",
              "            console.log([gd, 'removed!']);\n",
              "            Plotly.purge(gd);\n",
              "            observer.disconnect();\n",
              "        }}\n",
              "}});\n",
              "\n",
              "// Listen for the removal of the full notebook cells\n",
              "var notebookContainer = gd.closest('#notebook-container');\n",
              "if (notebookContainer) {{\n",
              "    x.observe(notebookContainer, {childList: true});\n",
              "}}\n",
              "\n",
              "// Listen for the clearing of the current output cell\n",
              "var outputEl = gd.closest('.output');\n",
              "if (outputEl) {{\n",
              "    x.observe(outputEl, {childList: true});\n",
              "}}\n",
              "\n",
              "                        })\n",
              "                };\n",
              "                \n",
              "            </script>\n",
              "        </div>\n",
              "</body>\n",
              "</html>"
            ]
          },
          "metadata": {
            "tags": []
          }
        }
      ]
    }
  ]
}